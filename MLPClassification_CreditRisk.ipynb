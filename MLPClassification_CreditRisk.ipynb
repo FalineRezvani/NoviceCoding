{
  "nbformat": 4,
  "nbformat_minor": 0,
  "metadata": {
    "colab": {
      "provenance": [],
      "include_colab_link": true
    },
    "kernelspec": {
      "name": "python3",
      "display_name": "Python 3"
    },
    "language_info": {
      "name": "python"
    }
  },
  "cells": [
    {
      "cell_type": "markdown",
      "metadata": {
        "id": "view-in-github",
        "colab_type": "text"
      },
      "source": [
        "<a href=\"https://colab.research.google.com/github/FalineRezvani/NoviceCoding/blob/main/MLPClassification_CreditRisk.ipynb\" target=\"_parent\"><img src=\"https://colab.research.google.com/assets/colab-badge.svg\" alt=\"Open In Colab\"/></a>"
      ]
    },
    {
      "cell_type": "code",
      "execution_count": null,
      "metadata": {
        "colab": {
          "base_uri": "https://localhost:8080/"
        },
        "id": "Ee4Lqd432IQs",
        "outputId": "33b4ac9d-86f3-4bc5-e5fd-17ac80e2bc4e"
      },
      "outputs": [
        {
          "output_type": "stream",
          "name": "stderr",
          "text": [
            "/usr/local/lib/python3.10/dist-packages/sklearn/datasets/_openml.py:301: UserWarning: Multiple active versions of the dataset matching the name credit-g exist. Versions may be fundamentally different, returning version 1.\n",
            "  warn(\n",
            "/usr/local/lib/python3.10/dist-packages/sklearn/datasets/_openml.py:968: FutureWarning: The default value of `parser` will change from `'liac-arff'` to `'auto'` in 1.4. You can set `parser='auto'` to silence this warning. Therefore, an `ImportError` will be raised from 1.4 if the dataset is dense and pandas is not installed. Note that the pandas parser may return different data types. See the Notes Section in fetch_openml's API doc for details.\n",
            "  warn(\n"
          ]
        }
      ],
      "source": [
        "# April 9, 2024\n",
        "#\n",
        "# This code will utilize existing customer data to predict credit risk of future applicants.\n",
        "# Developer: Faline Rezvani\n",
        "#\n",
        "# German Credit Data\n",
        "# This dataset records a set of attributes, along with the credit classification, good or bad, of a sample of people.\n",
        "# This dataset can be found on OpenML https://www.openml.org/d/31\n",
        "\n",
        "from sklearn.datasets import fetch_openml\n",
        "import matplotlib.pyplot as plt\n",
        "\n",
        "creditg = fetch_openml(name='credit-g',  as_frame=True)"
      ]
    },
    {
      "cell_type": "code",
      "source": [
        "print(creditg.frame.columns)"
      ],
      "metadata": {
        "colab": {
          "base_uri": "https://localhost:8080/"
        },
        "id": "XGnzh3-i2QUW",
        "outputId": "6a9cf7c1-78b7-41c7-b899-cbb5a97cf5a4"
      },
      "execution_count": null,
      "outputs": [
        {
          "output_type": "stream",
          "name": "stdout",
          "text": [
            "Index(['checking_status', 'duration', 'credit_history', 'purpose',\n",
            "       'credit_amount', 'savings_status', 'employment',\n",
            "       'installment_commitment', 'personal_status', 'other_parties',\n",
            "       'residence_since', 'property_magnitude', 'age', 'other_payment_plans',\n",
            "       'housing', 'existing_credits', 'job', 'num_dependents', 'own_telephone',\n",
            "       'foreign_worker', 'class'],\n",
            "      dtype='object')\n"
          ]
        }
      ]
    },
    {
      "cell_type": "code",
      "source": [
        "print(creditg.frame.describe())"
      ],
      "metadata": {
        "id": "LZpa255U2SPM",
        "colab": {
          "base_uri": "https://localhost:8080/"
        },
        "outputId": "2209084b-2004-48cb-8b32-124991fcd8b6"
      },
      "execution_count": null,
      "outputs": [
        {
          "output_type": "stream",
          "name": "stdout",
          "text": [
            "          duration  credit_amount  installment_commitment  residence_since  \\\n",
            "count  1000.000000    1000.000000             1000.000000      1000.000000   \n",
            "mean     20.903000    3271.258000                2.973000         2.845000   \n",
            "std      12.058814    2822.736876                1.118715         1.103718   \n",
            "min       4.000000     250.000000                1.000000         1.000000   \n",
            "25%      12.000000    1365.500000                2.000000         2.000000   \n",
            "50%      18.000000    2319.500000                3.000000         3.000000   \n",
            "75%      24.000000    3972.250000                4.000000         4.000000   \n",
            "max      72.000000   18424.000000                4.000000         4.000000   \n",
            "\n",
            "               age  existing_credits  num_dependents  \n",
            "count  1000.000000       1000.000000     1000.000000  \n",
            "mean     35.546000          1.407000        1.155000  \n",
            "std      11.375469          0.577654        0.362086  \n",
            "min      19.000000          1.000000        1.000000  \n",
            "25%      27.000000          1.000000        1.000000  \n",
            "50%      33.000000          1.000000        1.000000  \n",
            "75%      42.000000          2.000000        1.000000  \n",
            "max      75.000000          4.000000        2.000000  \n"
          ]
        }
      ]
    },
    {
      "cell_type": "code",
      "source": [
        "print(creditg.details)"
      ],
      "metadata": {
        "id": "3tcONks_2UPU",
        "colab": {
          "base_uri": "https://localhost:8080/"
        },
        "outputId": "19b3de6d-a0cc-4f9a-a3fc-2aa63e123505"
      },
      "execution_count": null,
      "outputs": [
        {
          "output_type": "stream",
          "name": "stdout",
          "text": [
            "{'id': '31', 'name': 'credit-g', 'version': '1', 'description_version': '13', 'format': 'ARFF', 'creator': 'Dr. Hans Hofmann', 'collection_date': '1994-11-17', 'upload_date': '2014-04-06T23:21:47', 'language': 'English', 'licence': 'Public', 'url': 'https://api.openml.org/data/v1/download/31/credit-g.arff', 'parquet_url': 'https://openml1.win.tue.nl/datasets/0000/0031/dataset_31.pq', 'file_id': '31', 'default_target_attribute': 'class', 'version_label': '1', 'citation': 'https://archive.ics.uci.edu/ml/citation_policy.html', 'tag': ['credit_scoring', 'Economics', 'finance_problem', 'Human Activities', 'mythbusting_1', 'OpenML-CC18', 'OpenML100', 'study_1', 'study_123', 'study_14', 'study_144', 'study_15', 'study_20', 'study_218', 'study_241', 'study_34', 'study_37', 'study_41', 'study_50', 'study_52', 'study_7', 'study_70', 'study_98', 'study_99', 'uci'], 'visibility': 'public', 'original_data_url': 'https://archive.ics.uci.edu/ml/datasets/statlog+(german+credit+data)', 'paper_url': 'https://dl.acm.org/doi/abs/10.1145/967900.968104', 'minio_url': 'https://openml1.win.tue.nl/datasets/0000/0031/dataset_31.pq', 'status': 'active', 'processing_date': '2020-11-20 19:44:53', 'md5_checksum': '9a475053fed0c26ee95cd4525e50074c'}\n"
          ]
        }
      ]
    },
    {
      "cell_type": "code",
      "source": [
        "creditg.frame.shape"
      ],
      "metadata": {
        "id": "3VSvkRTU2VOU",
        "colab": {
          "base_uri": "https://localhost:8080/"
        },
        "outputId": "f3919d3d-1984-4b7f-cff0-e8068dd84355"
      },
      "execution_count": null,
      "outputs": [
        {
          "output_type": "execute_result",
          "data": {
            "text/plain": [
              "(1000, 21)"
            ]
          },
          "metadata": {},
          "execution_count": 5
        }
      ]
    },
    {
      "cell_type": "code",
      "source": [
        "creditg.frame"
      ],
      "metadata": {
        "id": "T-9EZVn52ek5",
        "colab": {
          "base_uri": "https://localhost:8080/",
          "height": 583
        },
        "outputId": "6e68f251-90bc-4fc3-80f4-26f98519870b"
      },
      "execution_count": null,
      "outputs": [
        {
          "output_type": "execute_result",
          "data": {
            "text/plain": [
              "    checking_status  duration                  credit_history  \\\n",
              "0                <0       6.0  critical/other existing credit   \n",
              "1          0<=X<200      48.0                   existing paid   \n",
              "2       no checking      12.0  critical/other existing credit   \n",
              "3                <0      42.0                   existing paid   \n",
              "4                <0      24.0              delayed previously   \n",
              "..              ...       ...                             ...   \n",
              "995     no checking      12.0                   existing paid   \n",
              "996              <0      30.0                   existing paid   \n",
              "997     no checking      12.0                   existing paid   \n",
              "998              <0      45.0                   existing paid   \n",
              "999        0<=X<200      45.0  critical/other existing credit   \n",
              "\n",
              "                 purpose  credit_amount    savings_status  employment  \\\n",
              "0               radio/tv         1169.0  no known savings         >=7   \n",
              "1               radio/tv         5951.0              <100      1<=X<4   \n",
              "2              education         2096.0              <100      4<=X<7   \n",
              "3    furniture/equipment         7882.0              <100      4<=X<7   \n",
              "4                new car         4870.0              <100      1<=X<4   \n",
              "..                   ...            ...               ...         ...   \n",
              "995  furniture/equipment         1736.0              <100      4<=X<7   \n",
              "996             used car         3857.0              <100      1<=X<4   \n",
              "997             radio/tv          804.0              <100         >=7   \n",
              "998             radio/tv         1845.0              <100      1<=X<4   \n",
              "999             used car         4576.0        100<=X<500  unemployed   \n",
              "\n",
              "     installment_commitment     personal_status other_parties  ...  \\\n",
              "0                       4.0         male single          none  ...   \n",
              "1                       2.0  female div/dep/mar          none  ...   \n",
              "2                       2.0         male single          none  ...   \n",
              "3                       2.0         male single     guarantor  ...   \n",
              "4                       3.0         male single          none  ...   \n",
              "..                      ...                 ...           ...  ...   \n",
              "995                     3.0  female div/dep/mar          none  ...   \n",
              "996                     4.0        male div/sep          none  ...   \n",
              "997                     4.0         male single          none  ...   \n",
              "998                     4.0         male single          none  ...   \n",
              "999                     3.0         male single          none  ...   \n",
              "\n",
              "     property_magnitude   age  other_payment_plans   housing existing_credits  \\\n",
              "0           real estate  67.0                 none       own              2.0   \n",
              "1           real estate  22.0                 none       own              1.0   \n",
              "2           real estate  49.0                 none       own              1.0   \n",
              "3        life insurance  45.0                 none  for free              1.0   \n",
              "4     no known property  53.0                 none  for free              2.0   \n",
              "..                  ...   ...                  ...       ...              ...   \n",
              "995         real estate  31.0                 none       own              1.0   \n",
              "996      life insurance  40.0                 none       own              1.0   \n",
              "997                 car  38.0                 none       own              1.0   \n",
              "998   no known property  23.0                 none  for free              1.0   \n",
              "999                 car  27.0                 none       own              1.0   \n",
              "\n",
              "                           job num_dependents  own_telephone foreign_worker  \\\n",
              "0                      skilled            1.0            yes            yes   \n",
              "1                      skilled            1.0           none            yes   \n",
              "2           unskilled resident            2.0           none            yes   \n",
              "3                      skilled            2.0           none            yes   \n",
              "4                      skilled            2.0           none            yes   \n",
              "..                         ...            ...            ...            ...   \n",
              "995         unskilled resident            1.0           none            yes   \n",
              "996  high qualif/self emp/mgmt            1.0            yes            yes   \n",
              "997                    skilled            1.0           none            yes   \n",
              "998                    skilled            1.0            yes            yes   \n",
              "999                    skilled            1.0           none            yes   \n",
              "\n",
              "    class  \n",
              "0    good  \n",
              "1     bad  \n",
              "2    good  \n",
              "3    good  \n",
              "4     bad  \n",
              "..    ...  \n",
              "995  good  \n",
              "996  good  \n",
              "997  good  \n",
              "998   bad  \n",
              "999  good  \n",
              "\n",
              "[1000 rows x 21 columns]"
            ],
            "text/html": [
              "\n",
              "  <div id=\"df-fc5aa4ed-e84b-497c-94b4-a40285eb6e3f\" class=\"colab-df-container\">\n",
              "    <div>\n",
              "<style scoped>\n",
              "    .dataframe tbody tr th:only-of-type {\n",
              "        vertical-align: middle;\n",
              "    }\n",
              "\n",
              "    .dataframe tbody tr th {\n",
              "        vertical-align: top;\n",
              "    }\n",
              "\n",
              "    .dataframe thead th {\n",
              "        text-align: right;\n",
              "    }\n",
              "</style>\n",
              "<table border=\"1\" class=\"dataframe\">\n",
              "  <thead>\n",
              "    <tr style=\"text-align: right;\">\n",
              "      <th></th>\n",
              "      <th>checking_status</th>\n",
              "      <th>duration</th>\n",
              "      <th>credit_history</th>\n",
              "      <th>purpose</th>\n",
              "      <th>credit_amount</th>\n",
              "      <th>savings_status</th>\n",
              "      <th>employment</th>\n",
              "      <th>installment_commitment</th>\n",
              "      <th>personal_status</th>\n",
              "      <th>other_parties</th>\n",
              "      <th>...</th>\n",
              "      <th>property_magnitude</th>\n",
              "      <th>age</th>\n",
              "      <th>other_payment_plans</th>\n",
              "      <th>housing</th>\n",
              "      <th>existing_credits</th>\n",
              "      <th>job</th>\n",
              "      <th>num_dependents</th>\n",
              "      <th>own_telephone</th>\n",
              "      <th>foreign_worker</th>\n",
              "      <th>class</th>\n",
              "    </tr>\n",
              "  </thead>\n",
              "  <tbody>\n",
              "    <tr>\n",
              "      <th>0</th>\n",
              "      <td>&lt;0</td>\n",
              "      <td>6.0</td>\n",
              "      <td>critical/other existing credit</td>\n",
              "      <td>radio/tv</td>\n",
              "      <td>1169.0</td>\n",
              "      <td>no known savings</td>\n",
              "      <td>&gt;=7</td>\n",
              "      <td>4.0</td>\n",
              "      <td>male single</td>\n",
              "      <td>none</td>\n",
              "      <td>...</td>\n",
              "      <td>real estate</td>\n",
              "      <td>67.0</td>\n",
              "      <td>none</td>\n",
              "      <td>own</td>\n",
              "      <td>2.0</td>\n",
              "      <td>skilled</td>\n",
              "      <td>1.0</td>\n",
              "      <td>yes</td>\n",
              "      <td>yes</td>\n",
              "      <td>good</td>\n",
              "    </tr>\n",
              "    <tr>\n",
              "      <th>1</th>\n",
              "      <td>0&lt;=X&lt;200</td>\n",
              "      <td>48.0</td>\n",
              "      <td>existing paid</td>\n",
              "      <td>radio/tv</td>\n",
              "      <td>5951.0</td>\n",
              "      <td>&lt;100</td>\n",
              "      <td>1&lt;=X&lt;4</td>\n",
              "      <td>2.0</td>\n",
              "      <td>female div/dep/mar</td>\n",
              "      <td>none</td>\n",
              "      <td>...</td>\n",
              "      <td>real estate</td>\n",
              "      <td>22.0</td>\n",
              "      <td>none</td>\n",
              "      <td>own</td>\n",
              "      <td>1.0</td>\n",
              "      <td>skilled</td>\n",
              "      <td>1.0</td>\n",
              "      <td>none</td>\n",
              "      <td>yes</td>\n",
              "      <td>bad</td>\n",
              "    </tr>\n",
              "    <tr>\n",
              "      <th>2</th>\n",
              "      <td>no checking</td>\n",
              "      <td>12.0</td>\n",
              "      <td>critical/other existing credit</td>\n",
              "      <td>education</td>\n",
              "      <td>2096.0</td>\n",
              "      <td>&lt;100</td>\n",
              "      <td>4&lt;=X&lt;7</td>\n",
              "      <td>2.0</td>\n",
              "      <td>male single</td>\n",
              "      <td>none</td>\n",
              "      <td>...</td>\n",
              "      <td>real estate</td>\n",
              "      <td>49.0</td>\n",
              "      <td>none</td>\n",
              "      <td>own</td>\n",
              "      <td>1.0</td>\n",
              "      <td>unskilled resident</td>\n",
              "      <td>2.0</td>\n",
              "      <td>none</td>\n",
              "      <td>yes</td>\n",
              "      <td>good</td>\n",
              "    </tr>\n",
              "    <tr>\n",
              "      <th>3</th>\n",
              "      <td>&lt;0</td>\n",
              "      <td>42.0</td>\n",
              "      <td>existing paid</td>\n",
              "      <td>furniture/equipment</td>\n",
              "      <td>7882.0</td>\n",
              "      <td>&lt;100</td>\n",
              "      <td>4&lt;=X&lt;7</td>\n",
              "      <td>2.0</td>\n",
              "      <td>male single</td>\n",
              "      <td>guarantor</td>\n",
              "      <td>...</td>\n",
              "      <td>life insurance</td>\n",
              "      <td>45.0</td>\n",
              "      <td>none</td>\n",
              "      <td>for free</td>\n",
              "      <td>1.0</td>\n",
              "      <td>skilled</td>\n",
              "      <td>2.0</td>\n",
              "      <td>none</td>\n",
              "      <td>yes</td>\n",
              "      <td>good</td>\n",
              "    </tr>\n",
              "    <tr>\n",
              "      <th>4</th>\n",
              "      <td>&lt;0</td>\n",
              "      <td>24.0</td>\n",
              "      <td>delayed previously</td>\n",
              "      <td>new car</td>\n",
              "      <td>4870.0</td>\n",
              "      <td>&lt;100</td>\n",
              "      <td>1&lt;=X&lt;4</td>\n",
              "      <td>3.0</td>\n",
              "      <td>male single</td>\n",
              "      <td>none</td>\n",
              "      <td>...</td>\n",
              "      <td>no known property</td>\n",
              "      <td>53.0</td>\n",
              "      <td>none</td>\n",
              "      <td>for free</td>\n",
              "      <td>2.0</td>\n",
              "      <td>skilled</td>\n",
              "      <td>2.0</td>\n",
              "      <td>none</td>\n",
              "      <td>yes</td>\n",
              "      <td>bad</td>\n",
              "    </tr>\n",
              "    <tr>\n",
              "      <th>...</th>\n",
              "      <td>...</td>\n",
              "      <td>...</td>\n",
              "      <td>...</td>\n",
              "      <td>...</td>\n",
              "      <td>...</td>\n",
              "      <td>...</td>\n",
              "      <td>...</td>\n",
              "      <td>...</td>\n",
              "      <td>...</td>\n",
              "      <td>...</td>\n",
              "      <td>...</td>\n",
              "      <td>...</td>\n",
              "      <td>...</td>\n",
              "      <td>...</td>\n",
              "      <td>...</td>\n",
              "      <td>...</td>\n",
              "      <td>...</td>\n",
              "      <td>...</td>\n",
              "      <td>...</td>\n",
              "      <td>...</td>\n",
              "      <td>...</td>\n",
              "    </tr>\n",
              "    <tr>\n",
              "      <th>995</th>\n",
              "      <td>no checking</td>\n",
              "      <td>12.0</td>\n",
              "      <td>existing paid</td>\n",
              "      <td>furniture/equipment</td>\n",
              "      <td>1736.0</td>\n",
              "      <td>&lt;100</td>\n",
              "      <td>4&lt;=X&lt;7</td>\n",
              "      <td>3.0</td>\n",
              "      <td>female div/dep/mar</td>\n",
              "      <td>none</td>\n",
              "      <td>...</td>\n",
              "      <td>real estate</td>\n",
              "      <td>31.0</td>\n",
              "      <td>none</td>\n",
              "      <td>own</td>\n",
              "      <td>1.0</td>\n",
              "      <td>unskilled resident</td>\n",
              "      <td>1.0</td>\n",
              "      <td>none</td>\n",
              "      <td>yes</td>\n",
              "      <td>good</td>\n",
              "    </tr>\n",
              "    <tr>\n",
              "      <th>996</th>\n",
              "      <td>&lt;0</td>\n",
              "      <td>30.0</td>\n",
              "      <td>existing paid</td>\n",
              "      <td>used car</td>\n",
              "      <td>3857.0</td>\n",
              "      <td>&lt;100</td>\n",
              "      <td>1&lt;=X&lt;4</td>\n",
              "      <td>4.0</td>\n",
              "      <td>male div/sep</td>\n",
              "      <td>none</td>\n",
              "      <td>...</td>\n",
              "      <td>life insurance</td>\n",
              "      <td>40.0</td>\n",
              "      <td>none</td>\n",
              "      <td>own</td>\n",
              "      <td>1.0</td>\n",
              "      <td>high qualif/self emp/mgmt</td>\n",
              "      <td>1.0</td>\n",
              "      <td>yes</td>\n",
              "      <td>yes</td>\n",
              "      <td>good</td>\n",
              "    </tr>\n",
              "    <tr>\n",
              "      <th>997</th>\n",
              "      <td>no checking</td>\n",
              "      <td>12.0</td>\n",
              "      <td>existing paid</td>\n",
              "      <td>radio/tv</td>\n",
              "      <td>804.0</td>\n",
              "      <td>&lt;100</td>\n",
              "      <td>&gt;=7</td>\n",
              "      <td>4.0</td>\n",
              "      <td>male single</td>\n",
              "      <td>none</td>\n",
              "      <td>...</td>\n",
              "      <td>car</td>\n",
              "      <td>38.0</td>\n",
              "      <td>none</td>\n",
              "      <td>own</td>\n",
              "      <td>1.0</td>\n",
              "      <td>skilled</td>\n",
              "      <td>1.0</td>\n",
              "      <td>none</td>\n",
              "      <td>yes</td>\n",
              "      <td>good</td>\n",
              "    </tr>\n",
              "    <tr>\n",
              "      <th>998</th>\n",
              "      <td>&lt;0</td>\n",
              "      <td>45.0</td>\n",
              "      <td>existing paid</td>\n",
              "      <td>radio/tv</td>\n",
              "      <td>1845.0</td>\n",
              "      <td>&lt;100</td>\n",
              "      <td>1&lt;=X&lt;4</td>\n",
              "      <td>4.0</td>\n",
              "      <td>male single</td>\n",
              "      <td>none</td>\n",
              "      <td>...</td>\n",
              "      <td>no known property</td>\n",
              "      <td>23.0</td>\n",
              "      <td>none</td>\n",
              "      <td>for free</td>\n",
              "      <td>1.0</td>\n",
              "      <td>skilled</td>\n",
              "      <td>1.0</td>\n",
              "      <td>yes</td>\n",
              "      <td>yes</td>\n",
              "      <td>bad</td>\n",
              "    </tr>\n",
              "    <tr>\n",
              "      <th>999</th>\n",
              "      <td>0&lt;=X&lt;200</td>\n",
              "      <td>45.0</td>\n",
              "      <td>critical/other existing credit</td>\n",
              "      <td>used car</td>\n",
              "      <td>4576.0</td>\n",
              "      <td>100&lt;=X&lt;500</td>\n",
              "      <td>unemployed</td>\n",
              "      <td>3.0</td>\n",
              "      <td>male single</td>\n",
              "      <td>none</td>\n",
              "      <td>...</td>\n",
              "      <td>car</td>\n",
              "      <td>27.0</td>\n",
              "      <td>none</td>\n",
              "      <td>own</td>\n",
              "      <td>1.0</td>\n",
              "      <td>skilled</td>\n",
              "      <td>1.0</td>\n",
              "      <td>none</td>\n",
              "      <td>yes</td>\n",
              "      <td>good</td>\n",
              "    </tr>\n",
              "  </tbody>\n",
              "</table>\n",
              "<p>1000 rows × 21 columns</p>\n",
              "</div>\n",
              "    <div class=\"colab-df-buttons\">\n",
              "\n",
              "  <div class=\"colab-df-container\">\n",
              "    <button class=\"colab-df-convert\" onclick=\"convertToInteractive('df-fc5aa4ed-e84b-497c-94b4-a40285eb6e3f')\"\n",
              "            title=\"Convert this dataframe to an interactive table.\"\n",
              "            style=\"display:none;\">\n",
              "\n",
              "  <svg xmlns=\"http://www.w3.org/2000/svg\" height=\"24px\" viewBox=\"0 -960 960 960\">\n",
              "    <path d=\"M120-120v-720h720v720H120Zm60-500h600v-160H180v160Zm220 220h160v-160H400v160Zm0 220h160v-160H400v160ZM180-400h160v-160H180v160Zm440 0h160v-160H620v160ZM180-180h160v-160H180v160Zm440 0h160v-160H620v160Z\"/>\n",
              "  </svg>\n",
              "    </button>\n",
              "\n",
              "  <style>\n",
              "    .colab-df-container {\n",
              "      display:flex;\n",
              "      gap: 12px;\n",
              "    }\n",
              "\n",
              "    .colab-df-convert {\n",
              "      background-color: #E8F0FE;\n",
              "      border: none;\n",
              "      border-radius: 50%;\n",
              "      cursor: pointer;\n",
              "      display: none;\n",
              "      fill: #1967D2;\n",
              "      height: 32px;\n",
              "      padding: 0 0 0 0;\n",
              "      width: 32px;\n",
              "    }\n",
              "\n",
              "    .colab-df-convert:hover {\n",
              "      background-color: #E2EBFA;\n",
              "      box-shadow: 0px 1px 2px rgba(60, 64, 67, 0.3), 0px 1px 3px 1px rgba(60, 64, 67, 0.15);\n",
              "      fill: #174EA6;\n",
              "    }\n",
              "\n",
              "    .colab-df-buttons div {\n",
              "      margin-bottom: 4px;\n",
              "    }\n",
              "\n",
              "    [theme=dark] .colab-df-convert {\n",
              "      background-color: #3B4455;\n",
              "      fill: #D2E3FC;\n",
              "    }\n",
              "\n",
              "    [theme=dark] .colab-df-convert:hover {\n",
              "      background-color: #434B5C;\n",
              "      box-shadow: 0px 1px 3px 1px rgba(0, 0, 0, 0.15);\n",
              "      filter: drop-shadow(0px 1px 2px rgba(0, 0, 0, 0.3));\n",
              "      fill: #FFFFFF;\n",
              "    }\n",
              "  </style>\n",
              "\n",
              "    <script>\n",
              "      const buttonEl =\n",
              "        document.querySelector('#df-fc5aa4ed-e84b-497c-94b4-a40285eb6e3f button.colab-df-convert');\n",
              "      buttonEl.style.display =\n",
              "        google.colab.kernel.accessAllowed ? 'block' : 'none';\n",
              "\n",
              "      async function convertToInteractive(key) {\n",
              "        const element = document.querySelector('#df-fc5aa4ed-e84b-497c-94b4-a40285eb6e3f');\n",
              "        const dataTable =\n",
              "          await google.colab.kernel.invokeFunction('convertToInteractive',\n",
              "                                                    [key], {});\n",
              "        if (!dataTable) return;\n",
              "\n",
              "        const docLinkHtml = 'Like what you see? Visit the ' +\n",
              "          '<a target=\"_blank\" href=https://colab.research.google.com/notebooks/data_table.ipynb>data table notebook</a>'\n",
              "          + ' to learn more about interactive tables.';\n",
              "        element.innerHTML = '';\n",
              "        dataTable['output_type'] = 'display_data';\n",
              "        await google.colab.output.renderOutput(dataTable, element);\n",
              "        const docLink = document.createElement('div');\n",
              "        docLink.innerHTML = docLinkHtml;\n",
              "        element.appendChild(docLink);\n",
              "      }\n",
              "    </script>\n",
              "  </div>\n",
              "\n",
              "\n",
              "<div id=\"df-0abb88ae-6b59-4931-aea3-b44c7b55032f\">\n",
              "  <button class=\"colab-df-quickchart\" onclick=\"quickchart('df-0abb88ae-6b59-4931-aea3-b44c7b55032f')\"\n",
              "            title=\"Suggest charts\"\n",
              "            style=\"display:none;\">\n",
              "\n",
              "<svg xmlns=\"http://www.w3.org/2000/svg\" height=\"24px\"viewBox=\"0 0 24 24\"\n",
              "     width=\"24px\">\n",
              "    <g>\n",
              "        <path d=\"M19 3H5c-1.1 0-2 .9-2 2v14c0 1.1.9 2 2 2h14c1.1 0 2-.9 2-2V5c0-1.1-.9-2-2-2zM9 17H7v-7h2v7zm4 0h-2V7h2v10zm4 0h-2v-4h2v4z\"/>\n",
              "    </g>\n",
              "</svg>\n",
              "  </button>\n",
              "\n",
              "<style>\n",
              "  .colab-df-quickchart {\n",
              "      --bg-color: #E8F0FE;\n",
              "      --fill-color: #1967D2;\n",
              "      --hover-bg-color: #E2EBFA;\n",
              "      --hover-fill-color: #174EA6;\n",
              "      --disabled-fill-color: #AAA;\n",
              "      --disabled-bg-color: #DDD;\n",
              "  }\n",
              "\n",
              "  [theme=dark] .colab-df-quickchart {\n",
              "      --bg-color: #3B4455;\n",
              "      --fill-color: #D2E3FC;\n",
              "      --hover-bg-color: #434B5C;\n",
              "      --hover-fill-color: #FFFFFF;\n",
              "      --disabled-bg-color: #3B4455;\n",
              "      --disabled-fill-color: #666;\n",
              "  }\n",
              "\n",
              "  .colab-df-quickchart {\n",
              "    background-color: var(--bg-color);\n",
              "    border: none;\n",
              "    border-radius: 50%;\n",
              "    cursor: pointer;\n",
              "    display: none;\n",
              "    fill: var(--fill-color);\n",
              "    height: 32px;\n",
              "    padding: 0;\n",
              "    width: 32px;\n",
              "  }\n",
              "\n",
              "  .colab-df-quickchart:hover {\n",
              "    background-color: var(--hover-bg-color);\n",
              "    box-shadow: 0 1px 2px rgba(60, 64, 67, 0.3), 0 1px 3px 1px rgba(60, 64, 67, 0.15);\n",
              "    fill: var(--button-hover-fill-color);\n",
              "  }\n",
              "\n",
              "  .colab-df-quickchart-complete:disabled,\n",
              "  .colab-df-quickchart-complete:disabled:hover {\n",
              "    background-color: var(--disabled-bg-color);\n",
              "    fill: var(--disabled-fill-color);\n",
              "    box-shadow: none;\n",
              "  }\n",
              "\n",
              "  .colab-df-spinner {\n",
              "    border: 2px solid var(--fill-color);\n",
              "    border-color: transparent;\n",
              "    border-bottom-color: var(--fill-color);\n",
              "    animation:\n",
              "      spin 1s steps(1) infinite;\n",
              "  }\n",
              "\n",
              "  @keyframes spin {\n",
              "    0% {\n",
              "      border-color: transparent;\n",
              "      border-bottom-color: var(--fill-color);\n",
              "      border-left-color: var(--fill-color);\n",
              "    }\n",
              "    20% {\n",
              "      border-color: transparent;\n",
              "      border-left-color: var(--fill-color);\n",
              "      border-top-color: var(--fill-color);\n",
              "    }\n",
              "    30% {\n",
              "      border-color: transparent;\n",
              "      border-left-color: var(--fill-color);\n",
              "      border-top-color: var(--fill-color);\n",
              "      border-right-color: var(--fill-color);\n",
              "    }\n",
              "    40% {\n",
              "      border-color: transparent;\n",
              "      border-right-color: var(--fill-color);\n",
              "      border-top-color: var(--fill-color);\n",
              "    }\n",
              "    60% {\n",
              "      border-color: transparent;\n",
              "      border-right-color: var(--fill-color);\n",
              "    }\n",
              "    80% {\n",
              "      border-color: transparent;\n",
              "      border-right-color: var(--fill-color);\n",
              "      border-bottom-color: var(--fill-color);\n",
              "    }\n",
              "    90% {\n",
              "      border-color: transparent;\n",
              "      border-bottom-color: var(--fill-color);\n",
              "    }\n",
              "  }\n",
              "</style>\n",
              "\n",
              "  <script>\n",
              "    async function quickchart(key) {\n",
              "      const quickchartButtonEl =\n",
              "        document.querySelector('#' + key + ' button');\n",
              "      quickchartButtonEl.disabled = true;  // To prevent multiple clicks.\n",
              "      quickchartButtonEl.classList.add('colab-df-spinner');\n",
              "      try {\n",
              "        const charts = await google.colab.kernel.invokeFunction(\n",
              "            'suggestCharts', [key], {});\n",
              "      } catch (error) {\n",
              "        console.error('Error during call to suggestCharts:', error);\n",
              "      }\n",
              "      quickchartButtonEl.classList.remove('colab-df-spinner');\n",
              "      quickchartButtonEl.classList.add('colab-df-quickchart-complete');\n",
              "    }\n",
              "    (() => {\n",
              "      let quickchartButtonEl =\n",
              "        document.querySelector('#df-0abb88ae-6b59-4931-aea3-b44c7b55032f button');\n",
              "      quickchartButtonEl.style.display =\n",
              "        google.colab.kernel.accessAllowed ? 'block' : 'none';\n",
              "    })();\n",
              "  </script>\n",
              "</div>\n",
              "\n",
              "    </div>\n",
              "  </div>\n"
            ],
            "application/vnd.google.colaboratory.intrinsic+json": {
              "type": "dataframe"
            }
          },
          "metadata": {},
          "execution_count": 6
        }
      ]
    },
    {
      "cell_type": "markdown",
      "source": [
        "#**EDA Numerical Features**"
      ],
      "metadata": {
        "id": "lpCr7n-SDF7Z"
      }
    },
    {
      "cell_type": "markdown",
      "source": [
        "# Duration"
      ],
      "metadata": {
        "id": "UdqJR3ClDZca"
      }
    },
    {
      "cell_type": "code",
      "source": [
        "creditg.frame['duration']"
      ],
      "metadata": {
        "id": "F9t2QfFq5Pqs",
        "colab": {
          "base_uri": "https://localhost:8080/"
        },
        "outputId": "45586689-6bde-4a1f-99cf-4de984ccd6a9"
      },
      "execution_count": null,
      "outputs": [
        {
          "output_type": "execute_result",
          "data": {
            "text/plain": [
              "0       6.0\n",
              "1      48.0\n",
              "2      12.0\n",
              "3      42.0\n",
              "4      24.0\n",
              "       ... \n",
              "995    12.0\n",
              "996    30.0\n",
              "997    12.0\n",
              "998    45.0\n",
              "999    45.0\n",
              "Name: duration, Length: 1000, dtype: float64"
            ]
          },
          "metadata": {},
          "execution_count": 7
        }
      ]
    },
    {
      "cell_type": "code",
      "source": [
        "# Histogram to show distribution\n",
        "creditg.frame['duration'].plot(kind='hist')\n",
        "plt.xlabel('Duration', fontsize=15)\n",
        "plt.ylabel('Frequency', fontsize=15)\n",
        "plt.show()"
      ],
      "metadata": {
        "id": "DQOCh6gr9jYs",
        "colab": {
          "base_uri": "https://localhost:8080/",
          "height": 457
        },
        "outputId": "ddc3c515-d364-430f-a808-f7f9be8417e6"
      },
      "execution_count": null,
      "outputs": [
        {
          "output_type": "display_data",
          "data": {
            "text/plain": [
              "<Figure size 640x480 with 1 Axes>"
            ],
            "image/png": "[encoded data removed]"
          },
          "metadata": {}
        }
      ]
    },
    {
      "cell_type": "code",
      "source": [
        "# Boxplot to show distribution\n",
        "creditg.frame.boxplot(column='duration', vert=False)\n",
        "plt.show()"
      ],
      "metadata": {
        "colab": {
          "base_uri": "https://localhost:8080/",
          "height": 430
        },
        "id": "BD1YYpGPyk0x",
        "outputId": "fa34e733-cc82-41e9-a850-b7cf63137433"
      },
      "execution_count": null,
      "outputs": [
        {
          "output_type": "display_data",
          "data": {
            "text/plain": [
              "<Figure size 640x480 with 1 Axes>"
            ],
            "image/png": "[encoded data removed]"
          },
          "metadata": {}
        }
      ]
    },
    {
      "cell_type": "markdown",
      "source": [
        "# Credit Amount"
      ],
      "metadata": {
        "id": "xtl0qRjlDb95"
      }
    },
    {
      "cell_type": "code",
      "source": [
        "creditg.frame['credit_amount']"
      ],
      "metadata": {
        "id": "h7jzkEqoDOXq",
        "colab": {
          "base_uri": "https://localhost:8080/"
        },
        "outputId": "7e26778b-d7be-4e65-8e08-1e61f3e6e90d"
      },
      "execution_count": null,
      "outputs": [
        {
          "output_type": "execute_result",
          "data": {
            "text/plain": [
              "0      1169.0\n",
              "1      5951.0\n",
              "2      2096.0\n",
              "3      7882.0\n",
              "4      4870.0\n",
              "        ...  \n",
              "995    1736.0\n",
              "996    3857.0\n",
              "997     804.0\n",
              "998    1845.0\n",
              "999    4576.0\n",
              "Name: credit_amount, Length: 1000, dtype: float64"
            ]
          },
          "metadata": {},
          "execution_count": 10
        }
      ]
    },
    {
      "cell_type": "code",
      "source": [
        "# Histogram to show distribution\n",
        "creditg.frame['credit_amount'].plot(kind='hist')\n",
        "plt.xlabel('Credit Amount', fontsize=15)\n",
        "plt.ylabel('Frequency', fontsize=15)\n",
        "plt.show()"
      ],
      "metadata": {
        "id": "CyTWJGpxDU2b",
        "colab": {
          "base_uri": "https://localhost:8080/",
          "height": 455
        },
        "outputId": "6586475e-d547-451c-9a52-20fc51538ee9"
      },
      "execution_count": null,
      "outputs": [
        {
          "output_type": "display_data",
          "data": {
            "text/plain": [
              "<Figure size 640x480 with 1 Axes>"
            ],
            "image/png": "[encoded data removed]"
          },
          "metadata": {}
        }
      ]
    },
    {
      "cell_type": "code",
      "source": [
        "# Boxplot to show distribution\n",
        "creditg.frame.boxplot(column='credit_amount', vert=False)\n",
        "plt.show()"
      ],
      "metadata": {
        "colab": {
          "base_uri": "https://localhost:8080/",
          "height": 430
        },
        "id": "Keb5lb4yzNhY",
        "outputId": "1771c609-cae4-46cf-bb77-f5c2a0a2b5cb"
      },
      "execution_count": null,
      "outputs": [
        {
          "output_type": "display_data",
          "data": {
            "text/plain": [
              "<Figure size 640x480 with 1 Axes>"
            ],
            "image/png": "[encoded data removed]"
          },
          "metadata": {}
        }
      ]
    },
    {
      "cell_type": "markdown",
      "source": [
        "# Residence Since"
      ],
      "metadata": {
        "id": "HpNc6eEzEFo3"
      }
    },
    {
      "cell_type": "code",
      "source": [
        "creditg.frame['residence_since']"
      ],
      "metadata": {
        "id": "h8tf2nYh24UJ",
        "colab": {
          "base_uri": "https://localhost:8080/"
        },
        "outputId": "da342048-d0e3-4584-de0e-3beae2203497"
      },
      "execution_count": null,
      "outputs": [
        {
          "output_type": "execute_result",
          "data": {
            "text/plain": [
              "0      4.0\n",
              "1      2.0\n",
              "2      3.0\n",
              "3      4.0\n",
              "4      4.0\n",
              "      ... \n",
              "995    4.0\n",
              "996    4.0\n",
              "997    4.0\n",
              "998    4.0\n",
              "999    4.0\n",
              "Name: residence_since, Length: 1000, dtype: float64"
            ]
          },
          "metadata": {},
          "execution_count": 13
        }
      ]
    },
    {
      "cell_type": "code",
      "source": [
        "# Histogram to show distribution\n",
        "creditg.frame['residence_since'].plot(kind='hist')\n",
        "plt.xlabel('Residence Since', fontsize=15)\n",
        "plt.ylabel('Frequency', fontsize=15)\n",
        "plt.show()# Boxplot to show distribution"
      ],
      "metadata": {
        "id": "n_7cmLpj2-Pd",
        "colab": {
          "base_uri": "https://localhost:8080/",
          "height": 455
        },
        "outputId": "10e70838-7cd1-4cdd-80e1-9d96855ab85f"
      },
      "execution_count": null,
      "outputs": [
        {
          "output_type": "display_data",
          "data": {
            "text/plain": [
              "<Figure size 640x480 with 1 Axes>"
            ],
            "image/png": "[encoded data removed]"
          },
          "metadata": {}
        }
      ]
    },
    {
      "cell_type": "code",
      "source": [
        "creditg.frame.boxplot(column='residence_since', vert=False)\n",
        "plt.show()"
      ],
      "metadata": {
        "colab": {
          "base_uri": "https://localhost:8080/",
          "height": 430
        },
        "id": "u-oBfC89zZC8",
        "outputId": "7ccaa43b-3b10-4ff4-d4a7-2dbe69b9f44f"
      },
      "execution_count": null,
      "outputs": [
        {
          "output_type": "display_data",
          "data": {
            "text/plain": [
              "<Figure size 640x480 with 1 Axes>"
            ],
            "image/png": "[encoded data removed]"
          },
          "metadata": {}
        }
      ]
    },
    {
      "cell_type": "markdown",
      "source": [
        "# Age"
      ],
      "metadata": {
        "id": "mwthhr_dEH-4"
      }
    },
    {
      "cell_type": "code",
      "source": [
        "creditg.frame['age']"
      ],
      "metadata": {
        "id": "mpOhIddT3Nwb",
        "colab": {
          "base_uri": "https://localhost:8080/"
        },
        "outputId": "36ae1534-c7e9-465d-e8c4-882e6912c431"
      },
      "execution_count": null,
      "outputs": [
        {
          "output_type": "execute_result",
          "data": {
            "text/plain": [
              "0      67.0\n",
              "1      22.0\n",
              "2      49.0\n",
              "3      45.0\n",
              "4      53.0\n",
              "       ... \n",
              "995    31.0\n",
              "996    40.0\n",
              "997    38.0\n",
              "998    23.0\n",
              "999    27.0\n",
              "Name: age, Length: 1000, dtype: float64"
            ]
          },
          "metadata": {},
          "execution_count": 16
        }
      ]
    },
    {
      "cell_type": "code",
      "source": [
        "# Histogram to show distribution\n",
        "creditg.frame['age'].plot(kind='hist')\n",
        "plt.xlabel('Age', fontsize=15)\n",
        "plt.ylabel('Frequency', fontsize=15)\n",
        "plt.show()"
      ],
      "metadata": {
        "id": "vrJaP6sP3UIC",
        "colab": {
          "base_uri": "https://localhost:8080/",
          "height": 455
        },
        "outputId": "5a440bd3-e972-47e2-a692-0a9f62736c3e"
      },
      "execution_count": null,
      "outputs": [
        {
          "output_type": "display_data",
          "data": {
            "text/plain": [
              "<Figure size 640x480 with 1 Axes>"
            ],
            "image/png": "[encoded data removed]"
          },
          "metadata": {}
        }
      ]
    },
    {
      "cell_type": "code",
      "source": [
        "creditg.frame.boxplot(column='age', vert=False)\n",
        "plt.show()"
      ],
      "metadata": {
        "colab": {
          "base_uri": "https://localhost:8080/",
          "height": 430
        },
        "id": "rKOAeoqczdv1",
        "outputId": "47d855dd-ddab-4d3a-b5f0-2c3277c7216d"
      },
      "execution_count": null,
      "outputs": [
        {
          "output_type": "display_data",
          "data": {
            "text/plain": [
              "<Figure size 640x480 with 1 Axes>"
            ],
            "image/png": "[encoded data removed]"
          },
          "metadata": {}
        }
      ]
    },
    {
      "cell_type": "markdown",
      "source": [
        "# Existing Credits"
      ],
      "metadata": {
        "id": "AVmViqMYEJkA"
      }
    },
    {
      "cell_type": "code",
      "source": [
        "creditg.frame['existing_credits']"
      ],
      "metadata": {
        "id": "AmLXmi6x3fud",
        "colab": {
          "base_uri": "https://localhost:8080/"
        },
        "outputId": "acd0fffa-7a6f-4e21-ef1b-99dfac59e08d"
      },
      "execution_count": null,
      "outputs": [
        {
          "output_type": "execute_result",
          "data": {
            "text/plain": [
              "0      2.0\n",
              "1      1.0\n",
              "2      1.0\n",
              "3      1.0\n",
              "4      2.0\n",
              "      ... \n",
              "995    1.0\n",
              "996    1.0\n",
              "997    1.0\n",
              "998    1.0\n",
              "999    1.0\n",
              "Name: existing_credits, Length: 1000, dtype: float64"
            ]
          },
          "metadata": {},
          "execution_count": 19
        }
      ]
    },
    {
      "cell_type": "code",
      "source": [
        "# Histogram to show distribution\n",
        "creditg.frame['existing_credits'].plot(kind='hist')\n",
        "plt.xlabel('Existing Credits', fontsize=15)\n",
        "plt.ylabel('Frequency', fontsize=15)\n",
        "plt.show()"
      ],
      "metadata": {
        "id": "Jnlnz8ap3mG6",
        "colab": {
          "base_uri": "https://localhost:8080/",
          "height": 455
        },
        "outputId": "d2675dff-a0e5-4596-cb6d-9cdb07618eec"
      },
      "execution_count": null,
      "outputs": [
        {
          "output_type": "display_data",
          "data": {
            "text/plain": [
              "<Figure size 640x480 with 1 Axes>"
            ],
            "image/png": "[encoded data removed]"
          },
          "metadata": {}
        }
      ]
    },
    {
      "cell_type": "code",
      "source": [
        "creditg.frame.boxplot(column='existing_credits', vert=False)\n",
        "plt.show()"
      ],
      "metadata": {
        "colab": {
          "base_uri": "https://localhost:8080/",
          "height": 430
        },
        "id": "aQ_rS28azhOe",
        "outputId": "5b74086b-195b-4fe1-cb92-2cf7231a8148"
      },
      "execution_count": null,
      "outputs": [
        {
          "output_type": "display_data",
          "data": {
            "text/plain": [
              "<Figure size 640x480 with 1 Axes>"
            ],
            "image/png": "[encoded data removed]"
          },
          "metadata": {}
        }
      ]
    },
    {
      "cell_type": "markdown",
      "source": [
        "# Installment Commitment"
      ],
      "metadata": {
        "id": "BeB7ChapDq13"
      }
    },
    {
      "cell_type": "code",
      "source": [
        "creditg.frame['installment_commitment']"
      ],
      "metadata": {
        "id": "5f6VpoRR82AY",
        "colab": {
          "base_uri": "https://localhost:8080/"
        },
        "outputId": "e5922f58-86ac-4c17-d383-a0a48c6185e1"
      },
      "execution_count": null,
      "outputs": [
        {
          "output_type": "execute_result",
          "data": {
            "text/plain": [
              "0      4.0\n",
              "1      2.0\n",
              "2      2.0\n",
              "3      2.0\n",
              "4      3.0\n",
              "      ... \n",
              "995    3.0\n",
              "996    4.0\n",
              "997    4.0\n",
              "998    4.0\n",
              "999    3.0\n",
              "Name: installment_commitment, Length: 1000, dtype: float64"
            ]
          },
          "metadata": {},
          "execution_count": 22
        }
      ]
    },
    {
      "cell_type": "code",
      "source": [
        "# Histogram to show distribution\n",
        "creditg.frame['installment_commitment'].plot(kind='hist')\n",
        "plt.xlabel('Installment Commitment', fontsize=15)\n",
        "plt.ylabel('Frequency', fontsize=15)\n",
        "plt.show()"
      ],
      "metadata": {
        "id": "R4Wf1ylE8vo3",
        "colab": {
          "base_uri": "https://localhost:8080/",
          "height": 455
        },
        "outputId": "f26ee36f-bd2d-43de-be2d-61b4bf56da74"
      },
      "execution_count": null,
      "outputs": [
        {
          "output_type": "display_data",
          "data": {
            "text/plain": [
              "<Figure size 640x480 with 1 Axes>"
            ],
            "image/png": "[encoded data removed]"
          },
          "metadata": {}
        }
      ]
    },
    {
      "cell_type": "code",
      "source": [
        "creditg.frame.boxplot(column='installment_commitment', vert=False)\n",
        "plt.show()"
      ],
      "metadata": {
        "colab": {
          "base_uri": "https://localhost:8080/",
          "height": 430
        },
        "id": "veZlPmhYzk89",
        "outputId": "cf040271-4def-4ba9-8915-c4263e6df91c"
      },
      "execution_count": null,
      "outputs": [
        {
          "output_type": "display_data",
          "data": {
            "text/plain": [
              "<Figure size 640x480 with 1 Axes>"
            ],
            "image/png": "[encoded data removed]"
          },
          "metadata": {}
        }
      ]
    },
    {
      "cell_type": "markdown",
      "source": [
        "# Num Dependents"
      ],
      "metadata": {
        "id": "J3bADKdwDmXh"
      }
    },
    {
      "cell_type": "code",
      "source": [
        "creditg.frame['num_dependents']"
      ],
      "metadata": {
        "id": "YeVtNrEcDftb",
        "colab": {
          "base_uri": "https://localhost:8080/"
        },
        "outputId": "f4604de1-828f-43b7-ba63-c80d6c95083a"
      },
      "execution_count": null,
      "outputs": [
        {
          "output_type": "execute_result",
          "data": {
            "text/plain": [
              "0      1.0\n",
              "1      1.0\n",
              "2      2.0\n",
              "3      2.0\n",
              "4      2.0\n",
              "      ... \n",
              "995    1.0\n",
              "996    1.0\n",
              "997    1.0\n",
              "998    1.0\n",
              "999    1.0\n",
              "Name: num_dependents, Length: 1000, dtype: float64"
            ]
          },
          "metadata": {},
          "execution_count": 25
        }
      ]
    },
    {
      "cell_type": "code",
      "source": [
        "# Histogram to show distribution\n",
        "creditg.frame['num_dependents'].plot(kind='hist')\n",
        "plt.xlabel('Num Dependents', fontsize=15)\n",
        "plt.ylabel('Frequency', fontsize=15)\n",
        "plt.show()"
      ],
      "metadata": {
        "id": "XNoXzyTa6i5S",
        "colab": {
          "base_uri": "https://localhost:8080/",
          "height": 455
        },
        "outputId": "223a28de-456a-439e-dd37-5ef217be98fb"
      },
      "execution_count": null,
      "outputs": [
        {
          "output_type": "display_data",
          "data": {
            "text/plain": [
              "<Figure size 640x480 with 1 Axes>"
            ],
            "image/png": "[encoded data removed]"
          },
          "metadata": {}
        }
      ]
    },
    {
      "cell_type": "code",
      "source": [
        "creditg.frame.boxplot(column='num_dependents', vert=False)\n",
        "plt.show()"
      ],
      "metadata": {
        "colab": {
          "base_uri": "https://localhost:8080/",
          "height": 430
        },
        "id": "AG9aTEMcz0Dy",
        "outputId": "ad6c824a-5770-4653-c278-d6854bb78fba"
      },
      "execution_count": null,
      "outputs": [
        {
          "output_type": "display_data",
          "data": {
            "text/plain": [
              "<Figure size 640x480 with 1 Axes>"
            ],
            "image/png": "[encoded data removed]"
          },
          "metadata": {}
        }
      ]
    },
    {
      "cell_type": "markdown",
      "source": [
        "#**Encoding Nominal Categorical Features Using OneHotEncoder**"
      ],
      "metadata": {
        "id": "6qyRPBoZCjWS"
      }
    },
    {
      "cell_type": "code",
      "source": [
        "from sklearn.preprocessing import OneHotEncoder"
      ],
      "metadata": {
        "id": "zMBl4XWJANb6"
      },
      "execution_count": null,
      "outputs": []
    },
    {
      "cell_type": "code",
      "source": [
        "# Create instance of OneHotEncoder\n",
        "ohe = OneHotEncoder(sparse = False)"
      ],
      "metadata": {
        "id": "0-bvNwGo_UVa"
      },
      "execution_count": null,
      "outputs": []
    },
    {
      "cell_type": "markdown",
      "source": [
        "# Checking Status"
      ],
      "metadata": {
        "id": "lTEE5EP9EXHO"
      }
    },
    {
      "cell_type": "code",
      "source": [
        "# Apply and update 'checking_status' column\n",
        "creditg.frame['checking_status'] = ohe.fit_transform(creditg.frame[['checking_status']])"
      ],
      "metadata": {
        "colab": {
          "base_uri": "https://localhost:8080/"
        },
        "id": "wAgCAdVQlQ6i",
        "outputId": "a926252d-584c-4660-f9e6-78c385817fdf"
      },
      "execution_count": null,
      "outputs": [
        {
          "output_type": "stream",
          "name": "stderr",
          "text": [
            "/usr/local/lib/python3.10/dist-packages/sklearn/preprocessing/_encoders.py:868: FutureWarning: `sparse` was renamed to `sparse_output` in version 1.2 and will be removed in 1.4. `sparse_output` is ignored unless you leave `sparse` to its default value.\n",
            "  warnings.warn(\n"
          ]
        }
      ]
    },
    {
      "cell_type": "markdown",
      "source": [
        "# Purpose"
      ],
      "metadata": {
        "id": "eryAHb45FJeA"
      }
    },
    {
      "cell_type": "code",
      "source": [
        "# Apply and update 'purpose' column\n",
        "creditg.frame['purpose'] = ohe.fit_transform(creditg.frame[['purpose']])"
      ],
      "metadata": {
        "id": "lf6xVtllFLRb",
        "colab": {
          "base_uri": "https://localhost:8080/"
        },
        "outputId": "e970a357-d7a0-487c-84ec-69b517a02808"
      },
      "execution_count": null,
      "outputs": [
        {
          "output_type": "stream",
          "name": "stderr",
          "text": [
            "/usr/local/lib/python3.10/dist-packages/sklearn/preprocessing/_encoders.py:868: FutureWarning: `sparse` was renamed to `sparse_output` in version 1.2 and will be removed in 1.4. `sparse_output` is ignored unless you leave `sparse` to its default value.\n",
            "  warnings.warn(\n"
          ]
        }
      ]
    },
    {
      "cell_type": "markdown",
      "source": [
        "# Savings Status"
      ],
      "metadata": {
        "id": "0VXWO0sGFYM6"
      }
    },
    {
      "cell_type": "code",
      "source": [
        "# Apply and update 'savings_status' column\n",
        "creditg.frame['savings_status'] = ohe.fit_transform(creditg.frame[['savings_status']])"
      ],
      "metadata": {
        "id": "aPyk1MmbFaKd",
        "colab": {
          "base_uri": "https://localhost:8080/"
        },
        "outputId": "5303b6af-9f4b-45cf-fa23-d09e65596320"
      },
      "execution_count": null,
      "outputs": [
        {
          "output_type": "stream",
          "name": "stderr",
          "text": [
            "/usr/local/lib/python3.10/dist-packages/sklearn/preprocessing/_encoders.py:868: FutureWarning: `sparse` was renamed to `sparse_output` in version 1.2 and will be removed in 1.4. `sparse_output` is ignored unless you leave `sparse` to its default value.\n",
            "  warnings.warn(\n"
          ]
        }
      ]
    },
    {
      "cell_type": "markdown",
      "source": [
        "# Personal Status"
      ],
      "metadata": {
        "id": "9YRxME4AFrpx"
      }
    },
    {
      "cell_type": "code",
      "source": [
        "# Apply and update 'personal_status' column\n",
        "creditg.frame['personal_status'] = ohe.fit_transform(creditg.frame[['personal_status']])"
      ],
      "metadata": {
        "id": "Lz7gDd73Ft44",
        "colab": {
          "base_uri": "https://localhost:8080/"
        },
        "outputId": "8bdcbf87-baf5-4651-9d51-eefbe97ff25e"
      },
      "execution_count": null,
      "outputs": [
        {
          "output_type": "stream",
          "name": "stderr",
          "text": [
            "/usr/local/lib/python3.10/dist-packages/sklearn/preprocessing/_encoders.py:868: FutureWarning: `sparse` was renamed to `sparse_output` in version 1.2 and will be removed in 1.4. `sparse_output` is ignored unless you leave `sparse` to its default value.\n",
            "  warnings.warn(\n"
          ]
        }
      ]
    },
    {
      "cell_type": "markdown",
      "source": [
        "# Other Parties"
      ],
      "metadata": {
        "id": "fVsh4647GRYg"
      }
    },
    {
      "cell_type": "code",
      "source": [
        "# Apply and update 'other_parties' column\n",
        "creditg.frame['other_parties'] = ohe.fit_transform(creditg.frame[['other_parties']])"
      ],
      "metadata": {
        "id": "YnheH8obGTK4",
        "colab": {
          "base_uri": "https://localhost:8080/"
        },
        "outputId": "10013c23-9b8c-4ad8-f25d-fc03e2dd3eed"
      },
      "execution_count": null,
      "outputs": [
        {
          "output_type": "stream",
          "name": "stderr",
          "text": [
            "/usr/local/lib/python3.10/dist-packages/sklearn/preprocessing/_encoders.py:868: FutureWarning: `sparse` was renamed to `sparse_output` in version 1.2 and will be removed in 1.4. `sparse_output` is ignored unless you leave `sparse` to its default value.\n",
            "  warnings.warn(\n"
          ]
        }
      ]
    },
    {
      "cell_type": "markdown",
      "source": [
        "# Property Magnitude"
      ],
      "metadata": {
        "id": "2B3BCPiJGafQ"
      }
    },
    {
      "cell_type": "code",
      "source": [
        "# Apply and update 'property_magnitude' column\n",
        "creditg.frame['property_magnitude'] = ohe.fit_transform(creditg.frame[['property_magnitude']])"
      ],
      "metadata": {
        "id": "MjQqBl9_GeYt",
        "colab": {
          "base_uri": "https://localhost:8080/"
        },
        "outputId": "85dd7d25-a316-4458-feea-e7e041c39250"
      },
      "execution_count": null,
      "outputs": [
        {
          "output_type": "stream",
          "name": "stderr",
          "text": [
            "/usr/local/lib/python3.10/dist-packages/sklearn/preprocessing/_encoders.py:868: FutureWarning: `sparse` was renamed to `sparse_output` in version 1.2 and will be removed in 1.4. `sparse_output` is ignored unless you leave `sparse` to its default value.\n",
            "  warnings.warn(\n"
          ]
        }
      ]
    },
    {
      "cell_type": "markdown",
      "source": [
        "# Other Payment Plans"
      ],
      "metadata": {
        "id": "ydJbPvv7GoR-"
      }
    },
    {
      "cell_type": "code",
      "source": [
        "# Apply and update 'other_payment_plans' column\n",
        "creditg.frame['other_payment_plans'] = ohe.fit_transform(creditg.frame[['other_payment_plans']])"
      ],
      "metadata": {
        "id": "fdtSBAK_GrKV",
        "colab": {
          "base_uri": "https://localhost:8080/"
        },
        "outputId": "be6ef328-24ad-4666-f3e5-04e123011cef"
      },
      "execution_count": null,
      "outputs": [
        {
          "output_type": "stream",
          "name": "stderr",
          "text": [
            "/usr/local/lib/python3.10/dist-packages/sklearn/preprocessing/_encoders.py:868: FutureWarning: `sparse` was renamed to `sparse_output` in version 1.2 and will be removed in 1.4. `sparse_output` is ignored unless you leave `sparse` to its default value.\n",
            "  warnings.warn(\n"
          ]
        }
      ]
    },
    {
      "cell_type": "markdown",
      "source": [
        "# Housing"
      ],
      "metadata": {
        "id": "idiP_2qKEovE"
      }
    },
    {
      "cell_type": "code",
      "source": [
        "# Apply and update 'housing' column\n",
        "creditg.frame['housing'] = ohe.fit_transform(creditg.frame[['housing']])"
      ],
      "metadata": {
        "id": "1w4eRzXAAQVs",
        "colab": {
          "base_uri": "https://localhost:8080/"
        },
        "outputId": "96276ed9-d5d5-4aca-b517-58c0f08f49fa"
      },
      "execution_count": null,
      "outputs": [
        {
          "output_type": "stream",
          "name": "stderr",
          "text": [
            "/usr/local/lib/python3.10/dist-packages/sklearn/preprocessing/_encoders.py:868: FutureWarning: `sparse` was renamed to `sparse_output` in version 1.2 and will be removed in 1.4. `sparse_output` is ignored unless you leave `sparse` to its default value.\n",
            "  warnings.warn(\n"
          ]
        }
      ]
    },
    {
      "cell_type": "markdown",
      "source": [
        "# Telephone"
      ],
      "metadata": {
        "id": "Ml950FkkUcpX"
      }
    },
    {
      "cell_type": "code",
      "source": [
        "# Apply and update 'own_telephone' column\n",
        "creditg.frame['own_telephone'] = ohe.fit_transform(creditg.frame[['own_telephone']])"
      ],
      "metadata": {
        "id": "SxDgo1pdUa50",
        "colab": {
          "base_uri": "https://localhost:8080/"
        },
        "outputId": "a6128284-1848-4a5b-edcd-87ca70f295d8"
      },
      "execution_count": null,
      "outputs": [
        {
          "output_type": "stream",
          "name": "stderr",
          "text": [
            "/usr/local/lib/python3.10/dist-packages/sklearn/preprocessing/_encoders.py:868: FutureWarning: `sparse` was renamed to `sparse_output` in version 1.2 and will be removed in 1.4. `sparse_output` is ignored unless you leave `sparse` to its default value.\n",
            "  warnings.warn(\n"
          ]
        }
      ]
    },
    {
      "cell_type": "markdown",
      "source": [
        "# Foreign Worker"
      ],
      "metadata": {
        "id": "SzS89ZDbUnMp"
      }
    },
    {
      "cell_type": "code",
      "source": [
        "# Apply and update 'foreign_worker' column\n",
        "creditg.frame['foreign_worker'] = ohe.fit_transform(creditg.frame[['foreign_worker']])"
      ],
      "metadata": {
        "id": "QiRH2AXfUb42",
        "colab": {
          "base_uri": "https://localhost:8080/"
        },
        "outputId": "10736af3-1b72-463e-c085-b31808987b2e"
      },
      "execution_count": null,
      "outputs": [
        {
          "output_type": "stream",
          "name": "stderr",
          "text": [
            "/usr/local/lib/python3.10/dist-packages/sklearn/preprocessing/_encoders.py:868: FutureWarning: `sparse` was renamed to `sparse_output` in version 1.2 and will be removed in 1.4. `sparse_output` is ignored unless you leave `sparse` to its default value.\n",
            "  warnings.warn(\n"
          ]
        }
      ]
    },
    {
      "cell_type": "markdown",
      "source": [
        "# **Encoding Ordinal Categorial Features Using OrdinalEncoder**"
      ],
      "metadata": {
        "id": "8BLCPyNfMwG7"
      }
    },
    {
      "cell_type": "code",
      "source": [
        "from sklearn.preprocessing import OrdinalEncoder"
      ],
      "metadata": {
        "id": "p_Gh8tyXO_Bm"
      },
      "execution_count": null,
      "outputs": []
    },
    {
      "cell_type": "code",
      "source": [
        "# Create instance of ordinal encoder\n",
        "oe = OrdinalEncoder()"
      ],
      "metadata": {
        "id": "2es5qs7fNIj5"
      },
      "execution_count": null,
      "outputs": []
    },
    {
      "cell_type": "markdown",
      "source": [
        "# Credit History"
      ],
      "metadata": {
        "id": "PiIYl9O3E-ou"
      }
    },
    {
      "cell_type": "code",
      "source": [
        "# Apply and update 'credit_history' column\n",
        "creditg.frame['credit_history'] = oe.fit_transform(creditg.frame[['credit_history']])"
      ],
      "metadata": {
        "id": "JZliG2c5FAjO"
      },
      "execution_count": null,
      "outputs": []
    },
    {
      "cell_type": "markdown",
      "source": [
        "# Employment"
      ],
      "metadata": {
        "id": "2iM30Jn2FhFw"
      }
    },
    {
      "cell_type": "code",
      "source": [
        "# Apply and update 'employment' column\n",
        "creditg.frame['employment'] = oe.fit_transform(creditg.frame[['employment']])"
      ],
      "metadata": {
        "id": "plbXBznIFkmD"
      },
      "execution_count": null,
      "outputs": []
    },
    {
      "cell_type": "markdown",
      "source": [
        "# Job"
      ],
      "metadata": {
        "id": "vM9_yCUwEmP8"
      }
    },
    {
      "cell_type": "code",
      "source": [
        "# Apply and update 'job' column\n",
        "creditg.frame['job'] = oe.fit_transform(creditg.frame[['job']])"
      ],
      "metadata": {
        "id": "sO8Ac7j3EZ9A"
      },
      "execution_count": null,
      "outputs": []
    },
    {
      "cell_type": "markdown",
      "source": [
        "# **Label Encoder**"
      ],
      "metadata": {
        "id": "vyb-2BNXC4Uo"
      }
    },
    {
      "cell_type": "code",
      "source": [
        "from sklearn.preprocessing import LabelEncoder"
      ],
      "metadata": {
        "id": "30rLN92JOjYN"
      },
      "execution_count": null,
      "outputs": []
    },
    {
      "cell_type": "code",
      "source": [
        "# Create instance of label encoder\n",
        "le = LabelEncoder()"
      ],
      "metadata": {
        "id": "HTpQQH9vC6G0"
      },
      "execution_count": null,
      "outputs": []
    },
    {
      "cell_type": "code",
      "source": [
        "# Fit to target variable, 'class' (label)\n",
        "creditg.frame['class'] = le.fit_transform(creditg.frame[['class']])"
      ],
      "metadata": {
        "id": "UsXMEaiKDQ70",
        "colab": {
          "base_uri": "https://localhost:8080/"
        },
        "outputId": "529bdc90-083f-486f-b1a4-d13987113105"
      },
      "execution_count": null,
      "outputs": [
        {
          "output_type": "stream",
          "name": "stderr",
          "text": [
            "/usr/local/lib/python3.10/dist-packages/sklearn/preprocessing/_label.py:116: DataConversionWarning: A column-vector y was passed when a 1d array was expected. Please change the shape of y to (n_samples, ), for example using ravel().\n",
            "  y = column_or_1d(y, warn=True)\n"
          ]
        }
      ]
    },
    {
      "cell_type": "code",
      "source": [
        "# Checking that we only have two classes\n",
        "le.classes_"
      ],
      "metadata": {
        "colab": {
          "base_uri": "https://localhost:8080/"
        },
        "id": "JiwF_Th3RMT3",
        "outputId": "02fdda6d-74b6-4253-8c5b-eb7ae638f7e2"
      },
      "execution_count": null,
      "outputs": [
        {
          "output_type": "execute_result",
          "data": {
            "text/plain": [
              "array(['bad', 'good'], dtype=object)"
            ]
          },
          "metadata": {},
          "execution_count": 48
        }
      ]
    },
    {
      "cell_type": "code",
      "source": [
        "# Count of the instances of our dependent (target) variable, 'class'.\n",
        "# 1 - good, 0 - bad\n",
        "creditg.frame['class'].value_counts()"
      ],
      "metadata": {
        "colab": {
          "base_uri": "https://localhost:8080/"
        },
        "id": "EB-lOjYVQ01K",
        "outputId": "1c57fd4a-2f58-44be-90df-e40f69ef38d3"
      },
      "execution_count": null,
      "outputs": [
        {
          "output_type": "execute_result",
          "data": {
            "text/plain": [
              "class\n",
              "1    700\n",
              "0    300\n",
              "Name: count, dtype: int64"
            ]
          },
          "metadata": {},
          "execution_count": 49
        }
      ]
    },
    {
      "cell_type": "markdown",
      "source": [
        "# Shuffle Dataset"
      ],
      "metadata": {
        "id": "WG24Z7c54xd8"
      }
    },
    {
      "cell_type": "code",
      "source": [
        "from sklearn.utils import shuffle"
      ],
      "metadata": {
        "id": "d3a-OtVT4tNP"
      },
      "execution_count": null,
      "outputs": []
    },
    {
      "cell_type": "code",
      "source": [
        "creditg.frame = shuffle(creditg.frame)"
      ],
      "metadata": {
        "id": "I56tobDu41XD"
      },
      "execution_count": null,
      "outputs": []
    },
    {
      "cell_type": "markdown",
      "source": [
        "# Updated Dataset"
      ],
      "metadata": {
        "id": "cYoxIPTtU6WR"
      }
    },
    {
      "cell_type": "code",
      "source": [
        "# Check dataframe\n",
        "creditg.frame.head()"
      ],
      "metadata": {
        "colab": {
          "base_uri": "https://localhost:8080/",
          "height": 256
        },
        "id": "xzpfo36jDwHV",
        "outputId": "769e9476-f372-4067-805b-576ac1a7f8e5"
      },
      "execution_count": null,
      "outputs": [
        {
          "output_type": "execute_result",
          "data": {
            "text/plain": [
              "     checking_status  duration  credit_history  purpose  credit_amount  \\\n",
              "292              0.0      24.0             1.0      0.0         6419.0   \n",
              "453              0.0      24.0             3.0      0.0         2670.0   \n",
              "710              0.0      18.0             1.0      0.0          629.0   \n",
              "355              1.0      24.0             3.0      0.0         1246.0   \n",
              "884              1.0      24.0             3.0      0.0         4057.0   \n",
              "\n",
              "     savings_status  employment  installment_commitment  personal_status  \\\n",
              "292             0.0         3.0                     2.0              1.0   \n",
              "453             0.0         3.0                     4.0              0.0   \n",
              "710             0.0         3.0                     4.0              0.0   \n",
              "355             0.0         2.0                     4.0              0.0   \n",
              "884             0.0         1.0                     3.0              0.0   \n",
              "\n",
              "     other_parties  ...  property_magnitude   age  other_payment_plans  \\\n",
              "292            0.0  ...                 0.0  44.0                  0.0   \n",
              "453            0.0  ...                 1.0  35.0                  0.0   \n",
              "710            0.0  ...                 0.0  32.0                  1.0   \n",
              "355            0.0  ...                 0.0  23.0                  0.0   \n",
              "884            0.0  ...                 1.0  43.0                  0.0   \n",
              "\n",
              "     housing  existing_credits  job  num_dependents  own_telephone  \\\n",
              "292      1.0               2.0  0.0             2.0            0.0   \n",
              "453      0.0               1.0  0.0             1.0            0.0   \n",
              "710      0.0               2.0  0.0             1.0            0.0   \n",
              "355      0.0               1.0  3.0             1.0            1.0   \n",
              "884      0.0               1.0  1.0             1.0            0.0   \n",
              "\n",
              "     foreign_worker  class  \n",
              "292             0.0      1  \n",
              "453             0.0      1  \n",
              "710             0.0      1  \n",
              "355             0.0      0  \n",
              "884             0.0      0  \n",
              "\n",
              "[5 rows x 21 columns]"
            ],
            "text/html": [
              "\n",
              "  <div id=\"df-99a3e7ea-c841-4b47-9153-92b30fe5a1c2\" class=\"colab-df-container\">\n",
              "    <div>\n",
              "<style scoped>\n",
              "    .dataframe tbody tr th:only-of-type {\n",
              "        vertical-align: middle;\n",
              "    }\n",
              "\n",
              "    .dataframe tbody tr th {\n",
              "        vertical-align: top;\n",
              "    }\n",
              "\n",
              "    .dataframe thead th {\n",
              "        text-align: right;\n",
              "    }\n",
              "</style>\n",
              "<table border=\"1\" class=\"dataframe\">\n",
              "  <thead>\n",
              "    <tr style=\"text-align: right;\">\n",
              "      <th></th>\n",
              "      <th>checking_status</th>\n",
              "      <th>duration</th>\n",
              "      <th>credit_history</th>\n",
              "      <th>purpose</th>\n",
              "      <th>credit_amount</th>\n",
              "      <th>savings_status</th>\n",
              "      <th>employment</th>\n",
              "      <th>installment_commitment</th>\n",
              "      <th>personal_status</th>\n",
              "      <th>other_parties</th>\n",
              "      <th>...</th>\n",
              "      <th>property_magnitude</th>\n",
              "      <th>age</th>\n",
              "      <th>other_payment_plans</th>\n",
              "      <th>housing</th>\n",
              "      <th>existing_credits</th>\n",
              "      <th>job</th>\n",
              "      <th>num_dependents</th>\n",
              "      <th>own_telephone</th>\n",
              "      <th>foreign_worker</th>\n",
              "      <th>class</th>\n",
              "    </tr>\n",
              "  </thead>\n",
              "  <tbody>\n",
              "    <tr>\n",
              "      <th>292</th>\n",
              "      <td>0.0</td>\n",
              "      <td>24.0</td>\n",
              "      <td>1.0</td>\n",
              "      <td>0.0</td>\n",
              "      <td>6419.0</td>\n",
              "      <td>0.0</td>\n",
              "      <td>3.0</td>\n",
              "      <td>2.0</td>\n",
              "      <td>1.0</td>\n",
              "      <td>0.0</td>\n",
              "      <td>...</td>\n",
              "      <td>0.0</td>\n",
              "      <td>44.0</td>\n",
              "      <td>0.0</td>\n",
              "      <td>1.0</td>\n",
              "      <td>2.0</td>\n",
              "      <td>0.0</td>\n",
              "      <td>2.0</td>\n",
              "      <td>0.0</td>\n",
              "      <td>0.0</td>\n",
              "      <td>1</td>\n",
              "    </tr>\n",
              "    <tr>\n",
              "      <th>453</th>\n",
              "      <td>0.0</td>\n",
              "      <td>24.0</td>\n",
              "      <td>3.0</td>\n",
              "      <td>0.0</td>\n",
              "      <td>2670.0</td>\n",
              "      <td>0.0</td>\n",
              "      <td>3.0</td>\n",
              "      <td>4.0</td>\n",
              "      <td>0.0</td>\n",
              "      <td>0.0</td>\n",
              "      <td>...</td>\n",
              "      <td>1.0</td>\n",
              "      <td>35.0</td>\n",
              "      <td>0.0</td>\n",
              "      <td>0.0</td>\n",
              "      <td>1.0</td>\n",
              "      <td>0.0</td>\n",
              "      <td>1.0</td>\n",
              "      <td>0.0</td>\n",
              "      <td>0.0</td>\n",
              "      <td>1</td>\n",
              "    </tr>\n",
              "    <tr>\n",
              "      <th>710</th>\n",
              "      <td>0.0</td>\n",
              "      <td>18.0</td>\n",
              "      <td>1.0</td>\n",
              "      <td>0.0</td>\n",
              "      <td>629.0</td>\n",
              "      <td>0.0</td>\n",
              "      <td>3.0</td>\n",
              "      <td>4.0</td>\n",
              "      <td>0.0</td>\n",
              "      <td>0.0</td>\n",
              "      <td>...</td>\n",
              "      <td>0.0</td>\n",
              "      <td>32.0</td>\n",
              "      <td>1.0</td>\n",
              "      <td>0.0</td>\n",
              "      <td>2.0</td>\n",
              "      <td>0.0</td>\n",
              "      <td>1.0</td>\n",
              "      <td>0.0</td>\n",
              "      <td>0.0</td>\n",
              "      <td>1</td>\n",
              "    </tr>\n",
              "    <tr>\n",
              "      <th>355</th>\n",
              "      <td>1.0</td>\n",
              "      <td>24.0</td>\n",
              "      <td>3.0</td>\n",
              "      <td>0.0</td>\n",
              "      <td>1246.0</td>\n",
              "      <td>0.0</td>\n",
              "      <td>2.0</td>\n",
              "      <td>4.0</td>\n",
              "      <td>0.0</td>\n",
              "      <td>0.0</td>\n",
              "      <td>...</td>\n",
              "      <td>0.0</td>\n",
              "      <td>23.0</td>\n",
              "      <td>0.0</td>\n",
              "      <td>0.0</td>\n",
              "      <td>1.0</td>\n",
              "      <td>3.0</td>\n",
              "      <td>1.0</td>\n",
              "      <td>1.0</td>\n",
              "      <td>0.0</td>\n",
              "      <td>0</td>\n",
              "    </tr>\n",
              "    <tr>\n",
              "      <th>884</th>\n",
              "      <td>1.0</td>\n",
              "      <td>24.0</td>\n",
              "      <td>3.0</td>\n",
              "      <td>0.0</td>\n",
              "      <td>4057.0</td>\n",
              "      <td>0.0</td>\n",
              "      <td>1.0</td>\n",
              "      <td>3.0</td>\n",
              "      <td>0.0</td>\n",
              "      <td>0.0</td>\n",
              "      <td>...</td>\n",
              "      <td>1.0</td>\n",
              "      <td>43.0</td>\n",
              "      <td>0.0</td>\n",
              "      <td>0.0</td>\n",
              "      <td>1.0</td>\n",
              "      <td>1.0</td>\n",
              "      <td>1.0</td>\n",
              "      <td>0.0</td>\n",
              "      <td>0.0</td>\n",
              "      <td>0</td>\n",
              "    </tr>\n",
              "  </tbody>\n",
              "</table>\n",
              "<p>5 rows × 21 columns</p>\n",
              "</div>\n",
              "    <div class=\"colab-df-buttons\">\n",
              "\n",
              "  <div class=\"colab-df-container\">\n",
              "    <button class=\"colab-df-convert\" onclick=\"convertToInteractive('df-99a3e7ea-c841-4b47-9153-92b30fe5a1c2')\"\n",
              "            title=\"Convert this dataframe to an interactive table.\"\n",
              "            style=\"display:none;\">\n",
              "\n",
              "  <svg xmlns=\"http://www.w3.org/2000/svg\" height=\"24px\" viewBox=\"0 -960 960 960\">\n",
              "    <path d=\"M120-120v-720h720v720H120Zm60-500h600v-160H180v160Zm220 220h160v-160H400v160Zm0 220h160v-160H400v160ZM180-400h160v-160H180v160Zm440 0h160v-160H620v160ZM180-180h160v-160H180v160Zm440 0h160v-160H620v160Z\"/>\n",
              "  </svg>\n",
              "    </button>\n",
              "\n",
              "  <style>\n",
              "    .colab-df-container {\n",
              "      display:flex;\n",
              "      gap: 12px;\n",
              "    }\n",
              "\n",
              "    .colab-df-convert {\n",
              "      background-color: #E8F0FE;\n",
              "      border: none;\n",
              "      border-radius: 50%;\n",
              "      cursor: pointer;\n",
              "      display: none;\n",
              "      fill: #1967D2;\n",
              "      height: 32px;\n",
              "      padding: 0 0 0 0;\n",
              "      width: 32px;\n",
              "    }\n",
              "\n",
              "    .colab-df-convert:hover {\n",
              "      background-color: #E2EBFA;\n",
              "      box-shadow: 0px 1px 2px rgba(60, 64, 67, 0.3), 0px 1px 3px 1px rgba(60, 64, 67, 0.15);\n",
              "      fill: #174EA6;\n",
              "    }\n",
              "\n",
              "    .colab-df-buttons div {\n",
              "      margin-bottom: 4px;\n",
              "    }\n",
              "\n",
              "    [theme=dark] .colab-df-convert {\n",
              "      background-color: #3B4455;\n",
              "      fill: #D2E3FC;\n",
              "    }\n",
              "\n",
              "    [theme=dark] .colab-df-convert:hover {\n",
              "      background-color: #434B5C;\n",
              "      box-shadow: 0px 1px 3px 1px rgba(0, 0, 0, 0.15);\n",
              "      filter: drop-shadow(0px 1px 2px rgba(0, 0, 0, 0.3));\n",
              "      fill: #FFFFFF;\n",
              "    }\n",
              "  </style>\n",
              "\n",
              "    <script>\n",
              "      const buttonEl =\n",
              "        document.querySelector('#df-99a3e7ea-c841-4b47-9153-92b30fe5a1c2 button.colab-df-convert');\n",
              "      buttonEl.style.display =\n",
              "        google.colab.kernel.accessAllowed ? 'block' : 'none';\n",
              "\n",
              "      async function convertToInteractive(key) {\n",
              "        const element = document.querySelector('#df-99a3e7ea-c841-4b47-9153-92b30fe5a1c2');\n",
              "        const dataTable =\n",
              "          await google.colab.kernel.invokeFunction('convertToInteractive',\n",
              "                                                    [key], {});\n",
              "        if (!dataTable) return;\n",
              "\n",
              "        const docLinkHtml = 'Like what you see? Visit the ' +\n",
              "          '<a target=\"_blank\" href=https://colab.research.google.com/notebooks/data_table.ipynb>data table notebook</a>'\n",
              "          + ' to learn more about interactive tables.';\n",
              "        element.innerHTML = '';\n",
              "        dataTable['output_type'] = 'display_data';\n",
              "        await google.colab.output.renderOutput(dataTable, element);\n",
              "        const docLink = document.createElement('div');\n",
              "        docLink.innerHTML = docLinkHtml;\n",
              "        element.appendChild(docLink);\n",
              "      }\n",
              "    </script>\n",
              "  </div>\n",
              "\n",
              "\n",
              "<div id=\"df-7c0f638a-a47c-4045-98c6-76778e00ed29\">\n",
              "  <button class=\"colab-df-quickchart\" onclick=\"quickchart('df-7c0f638a-a47c-4045-98c6-76778e00ed29')\"\n",
              "            title=\"Suggest charts\"\n",
              "            style=\"display:none;\">\n",
              "\n",
              "<svg xmlns=\"http://www.w3.org/2000/svg\" height=\"24px\"viewBox=\"0 0 24 24\"\n",
              "     width=\"24px\">\n",
              "    <g>\n",
              "        <path d=\"M19 3H5c-1.1 0-2 .9-2 2v14c0 1.1.9 2 2 2h14c1.1 0 2-.9 2-2V5c0-1.1-.9-2-2-2zM9 17H7v-7h2v7zm4 0h-2V7h2v10zm4 0h-2v-4h2v4z\"/>\n",
              "    </g>\n",
              "</svg>\n",
              "  </button>\n",
              "\n",
              "<style>\n",
              "  .colab-df-quickchart {\n",
              "      --bg-color: #E8F0FE;\n",
              "      --fill-color: #1967D2;\n",
              "      --hover-bg-color: #E2EBFA;\n",
              "      --hover-fill-color: #174EA6;\n",
              "      --disabled-fill-color: #AAA;\n",
              "      --disabled-bg-color: #DDD;\n",
              "  }\n",
              "\n",
              "  [theme=dark] .colab-df-quickchart {\n",
              "      --bg-color: #3B4455;\n",
              "      --fill-color: #D2E3FC;\n",
              "      --hover-bg-color: #434B5C;\n",
              "      --hover-fill-color: #FFFFFF;\n",
              "      --disabled-bg-color: #3B4455;\n",
              "      --disabled-fill-color: #666;\n",
              "  }\n",
              "\n",
              "  .colab-df-quickchart {\n",
              "    background-color: var(--bg-color);\n",
              "    border: none;\n",
              "    border-radius: 50%;\n",
              "    cursor: pointer;\n",
              "    display: none;\n",
              "    fill: var(--fill-color);\n",
              "    height: 32px;\n",
              "    padding: 0;\n",
              "    width: 32px;\n",
              "  }\n",
              "\n",
              "  .colab-df-quickchart:hover {\n",
              "    background-color: var(--hover-bg-color);\n",
              "    box-shadow: 0 1px 2px rgba(60, 64, 67, 0.3), 0 1px 3px 1px rgba(60, 64, 67, 0.15);\n",
              "    fill: var(--button-hover-fill-color);\n",
              "  }\n",
              "\n",
              "  .colab-df-quickchart-complete:disabled,\n",
              "  .colab-df-quickchart-complete:disabled:hover {\n",
              "    background-color: var(--disabled-bg-color);\n",
              "    fill: var(--disabled-fill-color);\n",
              "    box-shadow: none;\n",
              "  }\n",
              "\n",
              "  .colab-df-spinner {\n",
              "    border: 2px solid var(--fill-color);\n",
              "    border-color: transparent;\n",
              "    border-bottom-color: var(--fill-color);\n",
              "    animation:\n",
              "      spin 1s steps(1) infinite;\n",
              "  }\n",
              "\n",
              "  @keyframes spin {\n",
              "    0% {\n",
              "      border-color: transparent;\n",
              "      border-bottom-color: var(--fill-color);\n",
              "      border-left-color: var(--fill-color);\n",
              "    }\n",
              "    20% {\n",
              "      border-color: transparent;\n",
              "      border-left-color: var(--fill-color);\n",
              "      border-top-color: var(--fill-color);\n",
              "    }\n",
              "    30% {\n",
              "      border-color: transparent;\n",
              "      border-left-color: var(--fill-color);\n",
              "      border-top-color: var(--fill-color);\n",
              "      border-right-color: var(--fill-color);\n",
              "    }\n",
              "    40% {\n",
              "      border-color: transparent;\n",
              "      border-right-color: var(--fill-color);\n",
              "      border-top-color: var(--fill-color);\n",
              "    }\n",
              "    60% {\n",
              "      border-color: transparent;\n",
              "      border-right-color: var(--fill-color);\n",
              "    }\n",
              "    80% {\n",
              "      border-color: transparent;\n",
              "      border-right-color: var(--fill-color);\n",
              "      border-bottom-color: var(--fill-color);\n",
              "    }\n",
              "    90% {\n",
              "      border-color: transparent;\n",
              "      border-bottom-color: var(--fill-color);\n",
              "    }\n",
              "  }\n",
              "</style>\n",
              "\n",
              "  <script>\n",
              "    async function quickchart(key) {\n",
              "      const quickchartButtonEl =\n",
              "        document.querySelector('#' + key + ' button');\n",
              "      quickchartButtonEl.disabled = true;  // To prevent multiple clicks.\n",
              "      quickchartButtonEl.classList.add('colab-df-spinner');\n",
              "      try {\n",
              "        const charts = await google.colab.kernel.invokeFunction(\n",
              "            'suggestCharts', [key], {});\n",
              "      } catch (error) {\n",
              "        console.error('Error during call to suggestCharts:', error);\n",
              "      }\n",
              "      quickchartButtonEl.classList.remove('colab-df-spinner');\n",
              "      quickchartButtonEl.classList.add('colab-df-quickchart-complete');\n",
              "    }\n",
              "    (() => {\n",
              "      let quickchartButtonEl =\n",
              "        document.querySelector('#df-7c0f638a-a47c-4045-98c6-76778e00ed29 button');\n",
              "      quickchartButtonEl.style.display =\n",
              "        google.colab.kernel.accessAllowed ? 'block' : 'none';\n",
              "    })();\n",
              "  </script>\n",
              "</div>\n",
              "\n",
              "    </div>\n",
              "  </div>\n"
            ],
            "application/vnd.google.colaboratory.intrinsic+json": {
              "type": "dataframe"
            }
          },
          "metadata": {},
          "execution_count": 52
        }
      ]
    },
    {
      "cell_type": "markdown",
      "source": [
        "#Isolating X and y; test/train split"
      ],
      "metadata": {
        "id": "LAeyBb_al1YK"
      }
    },
    {
      "cell_type": "code",
      "source": [
        "import numpy as np\n",
        "import sklearn\n",
        "from sklearn.neural_network import MLPClassifier\n",
        "from sklearn.model_selection import train_test_split"
      ],
      "metadata": {
        "id": "Y6W8kFFY9WMI"
      },
      "execution_count": null,
      "outputs": []
    },
    {
      "cell_type": "code",
      "source": [
        "# Assigning Target Variable\n",
        "target_column = ['class']"
      ],
      "metadata": {
        "id": "goNLzjQE9wCA"
      },
      "execution_count": null,
      "outputs": []
    },
    {
      "cell_type": "code",
      "source": [
        "# Create list of predictor variables\n",
        "predictors = list(set(list(creditg.frame.columns))-set(target_column))"
      ],
      "metadata": {
        "id": "DyqeDT4n5tMt"
      },
      "execution_count": null,
      "outputs": []
    },
    {
      "cell_type": "code",
      "source": [
        "# Standardizing predictors by dividing by max\n",
        "creditg.frame[predictors] = creditg.frame[predictors]/creditg.frame[predictors].max()"
      ],
      "metadata": {
        "id": "S9NOcy6U93Es"
      },
      "execution_count": null,
      "outputs": []
    },
    {
      "cell_type": "code",
      "source": [
        "# Summary statistics for the dataframe\n",
        "creditg.frame.describe().transpose()"
      ],
      "metadata": {
        "colab": {
          "base_uri": "https://localhost:8080/",
          "height": 708
        },
        "id": "Vov4jHi0-xC7",
        "outputId": "d80b5b30-9b01-479a-b249-681dc1a24d74"
      },
      "execution_count": null,
      "outputs": [
        {
          "output_type": "execute_result",
          "data": {
            "text/plain": [
              "                         count      mean       std       min       25%  \\\n",
              "checking_status         1000.0  0.269000  0.443662  0.000000  0.000000   \n",
              "duration                1000.0  0.290319  0.167484  0.055556  0.166667   \n",
              "credit_history          1000.0  0.554750  0.266009  0.000000  0.250000   \n",
              "purpose                 1000.0  0.097000  0.296106  0.000000  0.000000   \n",
              "credit_amount           1000.0  0.177554  0.153210  0.013569  0.074115   \n",
              "savings_status          1000.0  0.103000  0.304111  0.000000  0.000000   \n",
              "employment              1000.0  0.381250  0.336079  0.000000  0.000000   \n",
              "installment_commitment  1000.0  0.743250  0.279679  0.250000  0.500000   \n",
              "personal_status         1000.0  0.310000  0.462725  0.000000  0.000000   \n",
              "other_parties           1000.0  0.041000  0.198389  0.000000  0.000000   \n",
              "residence_since         1000.0  0.711250  0.275929  0.250000  0.500000   \n",
              "property_magnitude      1000.0  0.332000  0.471167  0.000000  0.000000   \n",
              "age                     1000.0  0.473947  0.151673  0.253333  0.360000   \n",
              "other_payment_plans     1000.0  0.139000  0.346120  0.000000  0.000000   \n",
              "housing                 1000.0  0.108000  0.310536  0.000000  0.000000   \n",
              "existing_credits        1000.0  0.351750  0.144414  0.250000  0.250000   \n",
              "job                     1000.0  0.424667  0.315493  0.000000  0.333333   \n",
              "num_dependents          1000.0  0.577500  0.181043  0.500000  0.500000   \n",
              "own_telephone           1000.0  0.596000  0.490943  0.000000  0.000000   \n",
              "foreign_worker          1000.0  0.037000  0.188856  0.000000  0.000000   \n",
              "class                   1000.0  0.700000  0.458487  0.000000  0.000000   \n",
              "\n",
              "                             50%       75%  max  \n",
              "checking_status         0.000000  1.000000  1.0  \n",
              "duration                0.250000  0.333333  1.0  \n",
              "credit_history          0.750000  0.750000  1.0  \n",
              "purpose                 0.000000  0.000000  1.0  \n",
              "credit_amount           0.125896  0.215602  1.0  \n",
              "savings_status          0.000000  0.000000  1.0  \n",
              "employment              0.250000  0.750000  1.0  \n",
              "installment_commitment  0.750000  1.000000  1.0  \n",
              "personal_status         0.000000  1.000000  1.0  \n",
              "other_parties           0.000000  0.000000  1.0  \n",
              "residence_since         0.750000  1.000000  1.0  \n",
              "property_magnitude      0.000000  1.000000  1.0  \n",
              "age                     0.440000  0.560000  1.0  \n",
              "other_payment_plans     0.000000  0.000000  1.0  \n",
              "housing                 0.000000  0.000000  1.0  \n",
              "existing_credits        0.250000  0.500000  1.0  \n",
              "job                     0.333333  0.333333  1.0  \n",
              "num_dependents          0.500000  0.500000  1.0  \n",
              "own_telephone           1.000000  1.000000  1.0  \n",
              "foreign_worker          0.000000  0.000000  1.0  \n",
              "class                   1.000000  1.000000  1.0  "
            ],
            "text/html": [
              "\n",
              "  <div id=\"df-cdfd8194-b6f9-4ebe-9393-5685af0e53c0\" class=\"colab-df-container\">\n",
              "    <div>\n",
              "<style scoped>\n",
              "    .dataframe tbody tr th:only-of-type {\n",
              "        vertical-align: middle;\n",
              "    }\n",
              "\n",
              "    .dataframe tbody tr th {\n",
              "        vertical-align: top;\n",
              "    }\n",
              "\n",
              "    .dataframe thead th {\n",
              "        text-align: right;\n",
              "    }\n",
              "</style>\n",
              "<table border=\"1\" class=\"dataframe\">\n",
              "  <thead>\n",
              "    <tr style=\"text-align: right;\">\n",
              "      <th></th>\n",
              "      <th>count</th>\n",
              "      <th>mean</th>\n",
              "      <th>std</th>\n",
              "      <th>min</th>\n",
              "      <th>25%</th>\n",
              "      <th>50%</th>\n",
              "      <th>75%</th>\n",
              "      <th>max</th>\n",
              "    </tr>\n",
              "  </thead>\n",
              "  <tbody>\n",
              "    <tr>\n",
              "      <th>checking_status</th>\n",
              "      <td>1000.0</td>\n",
              "      <td>0.269000</td>\n",
              "      <td>0.443662</td>\n",
              "      <td>0.000000</td>\n",
              "      <td>0.000000</td>\n",
              "      <td>0.000000</td>\n",
              "      <td>1.000000</td>\n",
              "      <td>1.0</td>\n",
              "    </tr>\n",
              "    <tr>\n",
              "      <th>duration</th>\n",
              "      <td>1000.0</td>\n",
              "      <td>0.290319</td>\n",
              "      <td>0.167484</td>\n",
              "      <td>0.055556</td>\n",
              "      <td>0.166667</td>\n",
              "      <td>0.250000</td>\n",
              "      <td>0.333333</td>\n",
              "      <td>1.0</td>\n",
              "    </tr>\n",
              "    <tr>\n",
              "      <th>credit_history</th>\n",
              "      <td>1000.0</td>\n",
              "      <td>0.554750</td>\n",
              "      <td>0.266009</td>\n",
              "      <td>0.000000</td>\n",
              "      <td>0.250000</td>\n",
              "      <td>0.750000</td>\n",
              "      <td>0.750000</td>\n",
              "      <td>1.0</td>\n",
              "    </tr>\n",
              "    <tr>\n",
              "      <th>purpose</th>\n",
              "      <td>1000.0</td>\n",
              "      <td>0.097000</td>\n",
              "      <td>0.296106</td>\n",
              "      <td>0.000000</td>\n",
              "      <td>0.000000</td>\n",
              "      <td>0.000000</td>\n",
              "      <td>0.000000</td>\n",
              "      <td>1.0</td>\n",
              "    </tr>\n",
              "    <tr>\n",
              "      <th>credit_amount</th>\n",
              "      <td>1000.0</td>\n",
              "      <td>0.177554</td>\n",
              "      <td>0.153210</td>\n",
              "      <td>0.013569</td>\n",
              "      <td>0.074115</td>\n",
              "      <td>0.125896</td>\n",
              "      <td>0.215602</td>\n",
              "      <td>1.0</td>\n",
              "    </tr>\n",
              "    <tr>\n",
              "      <th>savings_status</th>\n",
              "      <td>1000.0</td>\n",
              "      <td>0.103000</td>\n",
              "      <td>0.304111</td>\n",
              "      <td>0.000000</td>\n",
              "      <td>0.000000</td>\n",
              "      <td>0.000000</td>\n",
              "      <td>0.000000</td>\n",
              "      <td>1.0</td>\n",
              "    </tr>\n",
              "    <tr>\n",
              "      <th>employment</th>\n",
              "      <td>1000.0</td>\n",
              "      <td>0.381250</td>\n",
              "      <td>0.336079</td>\n",
              "      <td>0.000000</td>\n",
              "      <td>0.000000</td>\n",
              "      <td>0.250000</td>\n",
              "      <td>0.750000</td>\n",
              "      <td>1.0</td>\n",
              "    </tr>\n",
              "    <tr>\n",
              "      <th>installment_commitment</th>\n",
              "      <td>1000.0</td>\n",
              "      <td>0.743250</td>\n",
              "      <td>0.279679</td>\n",
              "      <td>0.250000</td>\n",
              "      <td>0.500000</td>\n",
              "      <td>0.750000</td>\n",
              "      <td>1.000000</td>\n",
              "      <td>1.0</td>\n",
              "    </tr>\n",
              "    <tr>\n",
              "      <th>personal_status</th>\n",
              "      <td>1000.0</td>\n",
              "      <td>0.310000</td>\n",
              "      <td>0.462725</td>\n",
              "      <td>0.000000</td>\n",
              "      <td>0.000000</td>\n",
              "      <td>0.000000</td>\n",
              "      <td>1.000000</td>\n",
              "      <td>1.0</td>\n",
              "    </tr>\n",
              "    <tr>\n",
              "      <th>other_parties</th>\n",
              "      <td>1000.0</td>\n",
              "      <td>0.041000</td>\n",
              "      <td>0.198389</td>\n",
              "      <td>0.000000</td>\n",
              "      <td>0.000000</td>\n",
              "      <td>0.000000</td>\n",
              "      <td>0.000000</td>\n",
              "      <td>1.0</td>\n",
              "    </tr>\n",
              "    <tr>\n",
              "      <th>residence_since</th>\n",
              "      <td>1000.0</td>\n",
              "      <td>0.711250</td>\n",
              "      <td>0.275929</td>\n",
              "      <td>0.250000</td>\n",
              "      <td>0.500000</td>\n",
              "      <td>0.750000</td>\n",
              "      <td>1.000000</td>\n",
              "      <td>1.0</td>\n",
              "    </tr>\n",
              "    <tr>\n",
              "      <th>property_magnitude</th>\n",
              "      <td>1000.0</td>\n",
              "      <td>0.332000</td>\n",
              "      <td>0.471167</td>\n",
              "      <td>0.000000</td>\n",
              "      <td>0.000000</td>\n",
              "      <td>0.000000</td>\n",
              "      <td>1.000000</td>\n",
              "      <td>1.0</td>\n",
              "    </tr>\n",
              "    <tr>\n",
              "      <th>age</th>\n",
              "      <td>1000.0</td>\n",
              "      <td>0.473947</td>\n",
              "      <td>0.151673</td>\n",
              "      <td>0.253333</td>\n",
              "      <td>0.360000</td>\n",
              "      <td>0.440000</td>\n",
              "      <td>0.560000</td>\n",
              "      <td>1.0</td>\n",
              "    </tr>\n",
              "    <tr>\n",
              "      <th>other_payment_plans</th>\n",
              "      <td>1000.0</td>\n",
              "      <td>0.139000</td>\n",
              "      <td>0.346120</td>\n",
              "      <td>0.000000</td>\n",
              "      <td>0.000000</td>\n",
              "      <td>0.000000</td>\n",
              "      <td>0.000000</td>\n",
              "      <td>1.0</td>\n",
              "    </tr>\n",
              "    <tr>\n",
              "      <th>housing</th>\n",
              "      <td>1000.0</td>\n",
              "      <td>0.108000</td>\n",
              "      <td>0.310536</td>\n",
              "      <td>0.000000</td>\n",
              "      <td>0.000000</td>\n",
              "      <td>0.000000</td>\n",
              "      <td>0.000000</td>\n",
              "      <td>1.0</td>\n",
              "    </tr>\n",
              "    <tr>\n",
              "      <th>existing_credits</th>\n",
              "      <td>1000.0</td>\n",
              "      <td>0.351750</td>\n",
              "      <td>0.144414</td>\n",
              "      <td>0.250000</td>\n",
              "      <td>0.250000</td>\n",
              "      <td>0.250000</td>\n",
              "      <td>0.500000</td>\n",
              "      <td>1.0</td>\n",
              "    </tr>\n",
              "    <tr>\n",
              "      <th>job</th>\n",
              "      <td>1000.0</td>\n",
              "      <td>0.424667</td>\n",
              "      <td>0.315493</td>\n",
              "      <td>0.000000</td>\n",
              "      <td>0.333333</td>\n",
              "      <td>0.333333</td>\n",
              "      <td>0.333333</td>\n",
              "      <td>1.0</td>\n",
              "    </tr>\n",
              "    <tr>\n",
              "      <th>num_dependents</th>\n",
              "      <td>1000.0</td>\n",
              "      <td>0.577500</td>\n",
              "      <td>0.181043</td>\n",
              "      <td>0.500000</td>\n",
              "      <td>0.500000</td>\n",
              "      <td>0.500000</td>\n",
              "      <td>0.500000</td>\n",
              "      <td>1.0</td>\n",
              "    </tr>\n",
              "    <tr>\n",
              "      <th>own_telephone</th>\n",
              "      <td>1000.0</td>\n",
              "      <td>0.596000</td>\n",
              "      <td>0.490943</td>\n",
              "      <td>0.000000</td>\n",
              "      <td>0.000000</td>\n",
              "      <td>1.000000</td>\n",
              "      <td>1.000000</td>\n",
              "      <td>1.0</td>\n",
              "    </tr>\n",
              "    <tr>\n",
              "      <th>foreign_worker</th>\n",
              "      <td>1000.0</td>\n",
              "      <td>0.037000</td>\n",
              "      <td>0.188856</td>\n",
              "      <td>0.000000</td>\n",
              "      <td>0.000000</td>\n",
              "      <td>0.000000</td>\n",
              "      <td>0.000000</td>\n",
              "      <td>1.0</td>\n",
              "    </tr>\n",
              "    <tr>\n",
              "      <th>class</th>\n",
              "      <td>1000.0</td>\n",
              "      <td>0.700000</td>\n",
              "      <td>0.458487</td>\n",
              "      <td>0.000000</td>\n",
              "      <td>0.000000</td>\n",
              "      <td>1.000000</td>\n",
              "      <td>1.000000</td>\n",
              "      <td>1.0</td>\n",
              "    </tr>\n",
              "  </tbody>\n",
              "</table>\n",
              "</div>\n",
              "    <div class=\"colab-df-buttons\">\n",
              "\n",
              "  <div class=\"colab-df-container\">\n",
              "    <button class=\"colab-df-convert\" onclick=\"convertToInteractive('df-cdfd8194-b6f9-4ebe-9393-5685af0e53c0')\"\n",
              "            title=\"Convert this dataframe to an interactive table.\"\n",
              "            style=\"display:none;\">\n",
              "\n",
              "  <svg xmlns=\"http://www.w3.org/2000/svg\" height=\"24px\" viewBox=\"0 -960 960 960\">\n",
              "    <path d=\"M120-120v-720h720v720H120Zm60-500h600v-160H180v160Zm220 220h160v-160H400v160Zm0 220h160v-160H400v160ZM180-400h160v-160H180v160Zm440 0h160v-160H620v160ZM180-180h160v-160H180v160Zm440 0h160v-160H620v160Z\"/>\n",
              "  </svg>\n",
              "    </button>\n",
              "\n",
              "  <style>\n",
              "    .colab-df-container {\n",
              "      display:flex;\n",
              "      gap: 12px;\n",
              "    }\n",
              "\n",
              "    .colab-df-convert {\n",
              "      background-color: #E8F0FE;\n",
              "      border: none;\n",
              "      border-radius: 50%;\n",
              "      cursor: pointer;\n",
              "      display: none;\n",
              "      fill: #1967D2;\n",
              "      height: 32px;\n",
              "      padding: 0 0 0 0;\n",
              "      width: 32px;\n",
              "    }\n",
              "\n",
              "    .colab-df-convert:hover {\n",
              "      background-color: #E2EBFA;\n",
              "      box-shadow: 0px 1px 2px rgba(60, 64, 67, 0.3), 0px 1px 3px 1px rgba(60, 64, 67, 0.15);\n",
              "      fill: #174EA6;\n",
              "    }\n",
              "\n",
              "    .colab-df-buttons div {\n",
              "      margin-bottom: 4px;\n",
              "    }\n",
              "\n",
              "    [theme=dark] .colab-df-convert {\n",
              "      background-color: #3B4455;\n",
              "      fill: #D2E3FC;\n",
              "    }\n",
              "\n",
              "    [theme=dark] .colab-df-convert:hover {\n",
              "      background-color: #434B5C;\n",
              "      box-shadow: 0px 1px 3px 1px rgba(0, 0, 0, 0.15);\n",
              "      filter: drop-shadow(0px 1px 2px rgba(0, 0, 0, 0.3));\n",
              "      fill: #FFFFFF;\n",
              "    }\n",
              "  </style>\n",
              "\n",
              "    <script>\n",
              "      const buttonEl =\n",
              "        document.querySelector('#df-cdfd8194-b6f9-4ebe-9393-5685af0e53c0 button.colab-df-convert');\n",
              "      buttonEl.style.display =\n",
              "        google.colab.kernel.accessAllowed ? 'block' : 'none';\n",
              "\n",
              "      async function convertToInteractive(key) {\n",
              "        const element = document.querySelector('#df-cdfd8194-b6f9-4ebe-9393-5685af0e53c0');\n",
              "        const dataTable =\n",
              "          await google.colab.kernel.invokeFunction('convertToInteractive',\n",
              "                                                    [key], {});\n",
              "        if (!dataTable) return;\n",
              "\n",
              "        const docLinkHtml = 'Like what you see? Visit the ' +\n",
              "          '<a target=\"_blank\" href=https://colab.research.google.com/notebooks/data_table.ipynb>data table notebook</a>'\n",
              "          + ' to learn more about interactive tables.';\n",
              "        element.innerHTML = '';\n",
              "        dataTable['output_type'] = 'display_data';\n",
              "        await google.colab.output.renderOutput(dataTable, element);\n",
              "        const docLink = document.createElement('div');\n",
              "        docLink.innerHTML = docLinkHtml;\n",
              "        element.appendChild(docLink);\n",
              "      }\n",
              "    </script>\n",
              "  </div>\n",
              "\n",
              "\n",
              "<div id=\"df-0e667e95-9740-486e-adfb-c939d836ddbe\">\n",
              "  <button class=\"colab-df-quickchart\" onclick=\"quickchart('df-0e667e95-9740-486e-adfb-c939d836ddbe')\"\n",
              "            title=\"Suggest charts\"\n",
              "            style=\"display:none;\">\n",
              "\n",
              "<svg xmlns=\"http://www.w3.org/2000/svg\" height=\"24px\"viewBox=\"0 0 24 24\"\n",
              "     width=\"24px\">\n",
              "    <g>\n",
              "        <path d=\"M19 3H5c-1.1 0-2 .9-2 2v14c0 1.1.9 2 2 2h14c1.1 0 2-.9 2-2V5c0-1.1-.9-2-2-2zM9 17H7v-7h2v7zm4 0h-2V7h2v10zm4 0h-2v-4h2v4z\"/>\n",
              "    </g>\n",
              "</svg>\n",
              "  </button>\n",
              "\n",
              "<style>\n",
              "  .colab-df-quickchart {\n",
              "      --bg-color: #E8F0FE;\n",
              "      --fill-color: #1967D2;\n",
              "      --hover-bg-color: #E2EBFA;\n",
              "      --hover-fill-color: #174EA6;\n",
              "      --disabled-fill-color: #AAA;\n",
              "      --disabled-bg-color: #DDD;\n",
              "  }\n",
              "\n",
              "  [theme=dark] .colab-df-quickchart {\n",
              "      --bg-color: #3B4455;\n",
              "      --fill-color: #D2E3FC;\n",
              "      --hover-bg-color: #434B5C;\n",
              "      --hover-fill-color: #FFFFFF;\n",
              "      --disabled-bg-color: #3B4455;\n",
              "      --disabled-fill-color: #666;\n",
              "  }\n",
              "\n",
              "  .colab-df-quickchart {\n",
              "    background-color: var(--bg-color);\n",
              "    border: none;\n",
              "    border-radius: 50%;\n",
              "    cursor: pointer;\n",
              "    display: none;\n",
              "    fill: var(--fill-color);\n",
              "    height: 32px;\n",
              "    padding: 0;\n",
              "    width: 32px;\n",
              "  }\n",
              "\n",
              "  .colab-df-quickchart:hover {\n",
              "    background-color: var(--hover-bg-color);\n",
              "    box-shadow: 0 1px 2px rgba(60, 64, 67, 0.3), 0 1px 3px 1px rgba(60, 64, 67, 0.15);\n",
              "    fill: var(--button-hover-fill-color);\n",
              "  }\n",
              "\n",
              "  .colab-df-quickchart-complete:disabled,\n",
              "  .colab-df-quickchart-complete:disabled:hover {\n",
              "    background-color: var(--disabled-bg-color);\n",
              "    fill: var(--disabled-fill-color);\n",
              "    box-shadow: none;\n",
              "  }\n",
              "\n",
              "  .colab-df-spinner {\n",
              "    border: 2px solid var(--fill-color);\n",
              "    border-color: transparent;\n",
              "    border-bottom-color: var(--fill-color);\n",
              "    animation:\n",
              "      spin 1s steps(1) infinite;\n",
              "  }\n",
              "\n",
              "  @keyframes spin {\n",
              "    0% {\n",
              "      border-color: transparent;\n",
              "      border-bottom-color: var(--fill-color);\n",
              "      border-left-color: var(--fill-color);\n",
              "    }\n",
              "    20% {\n",
              "      border-color: transparent;\n",
              "      border-left-color: var(--fill-color);\n",
              "      border-top-color: var(--fill-color);\n",
              "    }\n",
              "    30% {\n",
              "      border-color: transparent;\n",
              "      border-left-color: var(--fill-color);\n",
              "      border-top-color: var(--fill-color);\n",
              "      border-right-color: var(--fill-color);\n",
              "    }\n",
              "    40% {\n",
              "      border-color: transparent;\n",
              "      border-right-color: var(--fill-color);\n",
              "      border-top-color: var(--fill-color);\n",
              "    }\n",
              "    60% {\n",
              "      border-color: transparent;\n",
              "      border-right-color: var(--fill-color);\n",
              "    }\n",
              "    80% {\n",
              "      border-color: transparent;\n",
              "      border-right-color: var(--fill-color);\n",
              "      border-bottom-color: var(--fill-color);\n",
              "    }\n",
              "    90% {\n",
              "      border-color: transparent;\n",
              "      border-bottom-color: var(--fill-color);\n",
              "    }\n",
              "  }\n",
              "</style>\n",
              "\n",
              "  <script>\n",
              "    async function quickchart(key) {\n",
              "      const quickchartButtonEl =\n",
              "        document.querySelector('#' + key + ' button');\n",
              "      quickchartButtonEl.disabled = true;  // To prevent multiple clicks.\n",
              "      quickchartButtonEl.classList.add('colab-df-spinner');\n",
              "      try {\n",
              "        const charts = await google.colab.kernel.invokeFunction(\n",
              "            'suggestCharts', [key], {});\n",
              "      } catch (error) {\n",
              "        console.error('Error during call to suggestCharts:', error);\n",
              "      }\n",
              "      quickchartButtonEl.classList.remove('colab-df-spinner');\n",
              "      quickchartButtonEl.classList.add('colab-df-quickchart-complete');\n",
              "    }\n",
              "    (() => {\n",
              "      let quickchartButtonEl =\n",
              "        document.querySelector('#df-0e667e95-9740-486e-adfb-c939d836ddbe button');\n",
              "      quickchartButtonEl.style.display =\n",
              "        google.colab.kernel.accessAllowed ? 'block' : 'none';\n",
              "    })();\n",
              "  </script>\n",
              "</div>\n",
              "\n",
              "    </div>\n",
              "  </div>\n"
            ],
            "application/vnd.google.colaboratory.intrinsic+json": {
              "type": "dataframe",
              "summary": "{\n  \"name\": \"creditg\",\n  \"rows\": 21,\n  \"fields\": [\n    {\n      \"column\": \"count\",\n      \"properties\": {\n        \"dtype\": \"number\",\n        \"std\": 0.0,\n        \"min\": 1000.0,\n        \"max\": 1000.0,\n        \"num_unique_values\": 1,\n        \"samples\": [\n          1000.0\n        ],\n        \"semantic_type\": \"\",\n        \"description\": \"\"\n      }\n    },\n    {\n      \"column\": \"mean\",\n      \"properties\": {\n        \"dtype\": \"number\",\n        \"std\": 0.22878757130268063,\n        \"min\": 0.037,\n        \"max\": 0.74325,\n        \"num_unique_values\": 21,\n        \"samples\": [\n          0.269\n        ],\n        \"semantic_type\": \"\",\n        \"description\": \"\"\n      }\n    },\n    {\n      \"column\": \"std\",\n      \"properties\": {\n        \"dtype\": \"number\",\n        \"std\": 0.11531214270480251,\n        \"min\": 0.14441361706152506,\n        \"max\": 0.4909429956981004,\n        \"num_unique_values\": 21,\n        \"samples\": [\n          0.44366184852411616\n        ],\n        \"semantic_type\": \"\",\n        \"description\": \"\"\n      }\n    },\n    {\n      \"column\": \"min\",\n      \"properties\": {\n        \"dtype\": \"number\",\n        \"std\": 0.13914098832752725,\n        \"min\": 0.0,\n        \"max\": 0.5,\n        \"num_unique_values\": 6,\n        \"samples\": [\n          0.0\n        ],\n        \"semantic_type\": \"\",\n        \"description\": \"\"\n      }\n    },\n    {\n      \"column\": \"25%\",\n      \"properties\": {\n        \"dtype\": \"number\",\n        \"std\": 0.19222747405031101,\n        \"min\": 0.0,\n        \"max\": 0.5,\n        \"num_unique_values\": 7,\n        \"samples\": [\n          0.0\n        ],\n        \"semantic_type\": \"\",\n        \"description\": \"\"\n      }\n    },\n    {\n      \"column\": \"50%\",\n      \"properties\": {\n        \"dtype\": \"number\",\n        \"std\": 0.3532389126560712,\n        \"min\": 0.0,\n        \"max\": 1.0,\n        \"num_unique_values\": 8,\n        \"samples\": [\n          0.25\n        ],\n        \"semantic_type\": \"\",\n        \"description\": \"\"\n      }\n    },\n    {\n      \"column\": \"75%\",\n      \"properties\": {\n        \"dtype\": \"number\",\n        \"std\": 0.41867191562714734,\n        \"min\": 0.0,\n        \"max\": 1.0,\n        \"num_unique_values\": 7,\n        \"samples\": [\n          1.0\n        ],\n        \"semantic_type\": \"\",\n        \"description\": \"\"\n      }\n    },\n    {\n      \"column\": \"max\",\n      \"properties\": {\n        \"dtype\": \"number\",\n        \"std\": 0.0,\n        \"min\": 1.0,\n        \"max\": 1.0,\n        \"num_unique_values\": 1,\n        \"samples\": [\n          1.0\n        ],\n        \"semantic_type\": \"\",\n        \"description\": \"\"\n      }\n    }\n  ]\n}"
            }
          },
          "metadata": {},
          "execution_count": 57
        }
      ]
    },
    {
      "cell_type": "code",
      "source": [
        "# Removing NA's\n",
        "creditg.frame = creditg.frame.dropna()"
      ],
      "metadata": {
        "id": "oa6Nz5WW96TT"
      },
      "execution_count": null,
      "outputs": []
    },
    {
      "cell_type": "code",
      "source": [
        "# Transforming predictor data using principal componenet analysis (PCA) for dimensionality reduction\n",
        "from sklearn.decomposition import PCA\n",
        "pca = PCA()\n",
        "X = pca.fit_transform(creditg.frame[predictors])"
      ],
      "metadata": {
        "id": "3D2kv-gnsORi"
      },
      "execution_count": null,
      "outputs": []
    },
    {
      "cell_type": "code",
      "source": [
        "# Splitting our dataset into dependent variable, y and independent variables, X\n",
        "#X = creditg.frame[predictors].values\n",
        "y = creditg.frame[target_column].values"
      ],
      "metadata": {
        "id": "AixYGjO099kR"
      },
      "execution_count": null,
      "outputs": []
    },
    {
      "cell_type": "code",
      "source": [
        "# Splitting data into training and test sets\n",
        "X_train, X_test, y_train, y_test = train_test_split(X, y, test_size=0.25)\n",
        "print(X_train.shape); print(X_test.shape)"
      ],
      "metadata": {
        "colab": {
          "base_uri": "https://localhost:8080/"
        },
        "id": "sGiZSOtg-DJB",
        "outputId": "9adcd5a3-9669-4c2f-ab02-3729b7d9a5a5"
      },
      "execution_count": null,
      "outputs": [
        {
          "output_type": "stream",
          "name": "stdout",
          "text": [
            "(750, 20)\n",
            "(250, 20)\n"
          ]
        }
      ]
    },
    {
      "cell_type": "markdown",
      "source": [
        "#**Building MLP Model**"
      ],
      "metadata": {
        "id": "UWVU-X6alkum"
      }
    },
    {
      "cell_type": "code",
      "source": [
        "# Importing multi-layer-perceptron (MLP) library\n",
        "from sklearn.neural_network import MLPClassifier\n",
        "\n",
        "# Creating instance of model\n",
        "mlp = MLPClassifier(hidden_layer_sizes=(50,), activation='relu', solver='sgd',\n",
        "                    learning_rate='constant', learning_rate_init=0.01, max_iter=1000)\n",
        "\n",
        "# Training the model\n",
        "mlp.fit(X_train,y_train)"
      ],
      "metadata": {
        "colab": {
          "base_uri": "https://localhost:8080/",
          "height": 182
        },
        "id": "_qacJCHg-QnC",
        "outputId": "25412cde-18df-4121-9b97-d35089e26123"
      },
      "execution_count": null,
      "outputs": [
        {
          "output_type": "stream",
          "name": "stderr",
          "text": [
            "/usr/local/lib/python3.10/dist-packages/sklearn/neural_network/_multilayer_perceptron.py:1098: DataConversionWarning: A column-vector y was passed when a 1d array was expected. Please change the shape of y to (n_samples, ), for example using ravel().\n",
            "  y = column_or_1d(y, warn=True)\n",
            "/usr/local/lib/python3.10/dist-packages/sklearn/neural_network/_multilayer_perceptron.py:686: ConvergenceWarning: Stochastic Optimizer: Maximum iterations (1000) reached and the optimization hasn't converged yet.\n",
            "  warnings.warn(\n"
          ]
        },
        {
          "output_type": "execute_result",
          "data": {
            "text/plain": [
              "MLPClassifier(hidden_layer_sizes=(50,), learning_rate_init=0.01, max_iter=1000,\n",
              "              solver='sgd')"
            ],
            "text/html": [
              "<style>#sk-container-id-1 {color: black;background-color: white;}#sk-container-id-1 pre{padding: 0;}#sk-container-id-1 div.sk-toggleable {background-color: white;}#sk-container-id-1 label.sk-toggleable__label {cursor: pointer;display: block;width: 100%;margin-bottom: 0;padding: 0.3em;box-sizing: border-box;text-align: center;}#sk-container-id-1 label.sk-toggleable__label-arrow:before {content: \"▸\";float: left;margin-right: 0.25em;color: #696969;}#sk-container-id-1 label.sk-toggleable__label-arrow:hover:before {color: black;}#sk-container-id-1 div.sk-estimator:hover label.sk-toggleable__label-arrow:before {color: black;}#sk-container-id-1 div.sk-toggleable__content {max-height: 0;max-width: 0;overflow: hidden;text-align: left;background-color: #f0f8ff;}#sk-container-id-1 div.sk-toggleable__content pre {margin: 0.2em;color: black;border-radius: 0.25em;background-color: #f0f8ff;}#sk-container-id-1 input.sk-toggleable__control:checked~div.sk-toggleable__content {max-height: 200px;max-width: 100%;overflow: auto;}#sk-container-id-1 input.sk-toggleable__control:checked~label.sk-toggleable__label-arrow:before {content: \"▾\";}#sk-container-id-1 div.sk-estimator input.sk-toggleable__control:checked~label.sk-toggleable__label {background-color: #d4ebff;}#sk-container-id-1 div.sk-label input.sk-toggleable__control:checked~label.sk-toggleable__label {background-color: #d4ebff;}#sk-container-id-1 input.sk-hidden--visually {border: 0;clip: rect(1px 1px 1px 1px);clip: rect(1px, 1px, 1px, 1px);height: 1px;margin: -1px;overflow: hidden;padding: 0;position: absolute;width: 1px;}#sk-container-id-1 div.sk-estimator {font-family: monospace;background-color: #f0f8ff;border: 1px dotted black;border-radius: 0.25em;box-sizing: border-box;margin-bottom: 0.5em;}#sk-container-id-1 div.sk-estimator:hover {background-color: #d4ebff;}#sk-container-id-1 div.sk-parallel-item::after {content: \"\";width: 100%;border-bottom: 1px solid gray;flex-grow: 1;}#sk-container-id-1 div.sk-label:hover label.sk-toggleable__label {background-color: #d4ebff;}#sk-container-id-1 div.sk-serial::before {content: \"\";position: absolute;border-left: 1px solid gray;box-sizing: border-box;top: 0;bottom: 0;left: 50%;z-index: 0;}#sk-container-id-1 div.sk-serial {display: flex;flex-direction: column;align-items: center;background-color: white;padding-right: 0.2em;padding-left: 0.2em;position: relative;}#sk-container-id-1 div.sk-item {position: relative;z-index: 1;}#sk-container-id-1 div.sk-parallel {display: flex;align-items: stretch;justify-content: center;background-color: white;position: relative;}#sk-container-id-1 div.sk-item::before, #sk-container-id-1 div.sk-parallel-item::before {content: \"\";position: absolute;border-left: 1px solid gray;box-sizing: border-box;top: 0;bottom: 0;left: 50%;z-index: -1;}#sk-container-id-1 div.sk-parallel-item {display: flex;flex-direction: column;z-index: 1;position: relative;background-color: white;}#sk-container-id-1 div.sk-parallel-item:first-child::after {align-self: flex-end;width: 50%;}#sk-container-id-1 div.sk-parallel-item:last-child::after {align-self: flex-start;width: 50%;}#sk-container-id-1 div.sk-parallel-item:only-child::after {width: 0;}#sk-container-id-1 div.sk-dashed-wrapped {border: 1px dashed gray;margin: 0 0.4em 0.5em 0.4em;box-sizing: border-box;padding-bottom: 0.4em;background-color: white;}#sk-container-id-1 div.sk-label label {font-family: monospace;font-weight: bold;display: inline-block;line-height: 1.2em;}#sk-container-id-1 div.sk-label-container {text-align: center;}#sk-container-id-1 div.sk-container {/* jupyter's `normalize.less` sets `[hidden] { display: none; }` but bootstrap.min.css set `[hidden] { display: none !important; }` so we also need the `!important` here to be able to override the default hidden behavior on the sphinx rendered scikit-learn.org. See: https://github.com/scikit-learn/scikit-learn/issues/21755 */display: inline-block !important;position: relative;}#sk-container-id-1 div.sk-text-repr-fallback {display: none;}</style><div id=\"sk-container-id-1\" class=\"sk-top-container\"><div class=\"sk-text-repr-fallback\"><pre>MLPClassifier(hidden_layer_sizes=(50,), learning_rate_init=0.01, max_iter=1000,\n",
              "              solver=&#x27;sgd&#x27;)</pre><b>In a Jupyter environment, please rerun this cell to show the HTML representation or trust the notebook. <br />On GitHub, the HTML representation is unable to render, please try loading this page with nbviewer.org.</b></div><div class=\"sk-container\" hidden><div class=\"sk-item\"><div class=\"sk-estimator sk-toggleable\"><input class=\"sk-toggleable__control sk-hidden--visually\" id=\"sk-estimator-id-1\" type=\"checkbox\" checked><label for=\"sk-estimator-id-1\" class=\"sk-toggleable__label sk-toggleable__label-arrow\">MLPClassifier</label><div class=\"sk-toggleable__content\"><pre>MLPClassifier(hidden_layer_sizes=(50,), learning_rate_init=0.01, max_iter=1000,\n",
              "              solver=&#x27;sgd&#x27;)</pre></div></div></div></div></div>"
            ]
          },
          "metadata": {},
          "execution_count": 62
        }
      ]
    },
    {
      "cell_type": "code",
      "source": [
        "# Predictions on training set\n",
        "predict_train = mlp.predict(X_train)\n",
        "# Predictions on test set\n",
        "predict_test = mlp.predict(X_test)"
      ],
      "metadata": {
        "id": "ZEhVChh0-T1c"
      },
      "execution_count": null,
      "outputs": []
    },
    {
      "cell_type": "code",
      "source": [
        "from sklearn.metrics import classification_report,confusion_matrix\n",
        "\n",
        "print('Training accuracy')\n",
        "# Confusion matrix for training set\n",
        "print(confusion_matrix(y_train,predict_train))"
      ],
      "metadata": {
        "colab": {
          "base_uri": "https://localhost:8080/"
        },
        "id": "wmH2SEHj-WUU",
        "outputId": "40e0534d-95bd-43c9-aee8-e9f0021139b9"
      },
      "execution_count": null,
      "outputs": [
        {
          "output_type": "stream",
          "name": "stdout",
          "text": [
            "Training accuracy\n",
            "[[131  96]\n",
            " [ 29 494]]\n"
          ]
        }
      ]
    },
    {
      "cell_type": "code",
      "source": [
        "# Classification report for training set\n",
        "print(classification_report(y_train,predict_train))"
      ],
      "metadata": {
        "colab": {
          "base_uri": "https://localhost:8080/"
        },
        "id": "stnYVR6rPATE",
        "outputId": "3e447632-36af-48a4-c90f-c05b0906ddde"
      },
      "execution_count": null,
      "outputs": [
        {
          "output_type": "stream",
          "name": "stdout",
          "text": [
            "              precision    recall  f1-score   support\n",
            "\n",
            "           0       0.82      0.58      0.68       227\n",
            "           1       0.84      0.94      0.89       523\n",
            "\n",
            "    accuracy                           0.83       750\n",
            "   macro avg       0.83      0.76      0.78       750\n",
            "weighted avg       0.83      0.83      0.82       750\n",
            "\n"
          ]
        }
      ]
    },
    {
      "cell_type": "code",
      "source": [
        "print('Testing accuracy')\n",
        "# Confusion matrix for test set\n",
        "print(confusion_matrix(y_test,predict_test))"
      ],
      "metadata": {
        "colab": {
          "base_uri": "https://localhost:8080/"
        },
        "id": "nif666tX-Zu-",
        "outputId": "083fb543-9318-4ac4-9e49-0ac9c22236ec"
      },
      "execution_count": null,
      "outputs": [
        {
          "output_type": "stream",
          "name": "stdout",
          "text": [
            "Testing accuracy\n",
            "[[ 27  46]\n",
            " [ 28 149]]\n"
          ]
        }
      ]
    },
    {
      "cell_type": "code",
      "source": [
        "# Classification report for test set\n",
        "print(classification_report(y_test,predict_test))"
      ],
      "metadata": {
        "colab": {
          "base_uri": "https://localhost:8080/"
        },
        "id": "ZqGIzgqvPFKG",
        "outputId": "a437ee79-580e-4377-9c81-144a04c79f50"
      },
      "execution_count": null,
      "outputs": [
        {
          "output_type": "stream",
          "name": "stdout",
          "text": [
            "              precision    recall  f1-score   support\n",
            "\n",
            "           0       0.49      0.37      0.42        73\n",
            "           1       0.76      0.84      0.80       177\n",
            "\n",
            "    accuracy                           0.70       250\n",
            "   macro avg       0.63      0.61      0.61       250\n",
            "weighted avg       0.68      0.70      0.69       250\n",
            "\n"
          ]
        }
      ]
    },
    {
      "cell_type": "code",
      "source": [
        "from sklearn.metrics import roc_auc_score\n",
        "from sklearn.metrics import roc_curve\n",
        "mlp_roc_auc = roc_auc_score(y_test, mlp.predict(X_test))\n",
        "fpr, tpr, thresholds = roc_curve(y_test, mlp.predict_proba(X_test)[:,1])\n",
        "plt.figure()\n",
        "plt.plot(fpr, tpr, label = 'Multi-Layer Perceptron (area = %0.2f)' % mlp_roc_auc)\n",
        "plt.plot([0, 1], [0, 1], 'r--')\n",
        "plt.xlim([0.0, 1.0])\n",
        "plt.ylim([0.0, 1.05])\n",
        "plt.xlabel('False Positive Rate')\n",
        "plt.ylabel('True Positive Rate')\n",
        "plt.title('Receiver Operating Characteristic')\n",
        "plt.legend(loc = 'lower right')\n",
        "plt.savefig('ROC_CreditRisk')\n",
        "plt.show()"
      ],
      "metadata": {
        "colab": {
          "base_uri": "https://localhost:8080/",
          "height": 472
        },
        "id": "VrqzXNKoCo9R",
        "outputId": "7cf0e7f7-2397-4177-8976-64e72a985b57"
      },
      "execution_count": null,
      "outputs": [
        {
          "output_type": "display_data",
          "data": {
            "text/plain": [
              "<Figure size 640x480 with 1 Axes>"
            ],
            "image/png": "[encoded data removed]"
          },
          "metadata": {}
        }
      ]
    }
  ]
}